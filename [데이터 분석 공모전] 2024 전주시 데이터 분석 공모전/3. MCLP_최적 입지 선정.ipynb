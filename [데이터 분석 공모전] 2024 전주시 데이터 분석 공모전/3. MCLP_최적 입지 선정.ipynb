{
  "nbformat": 4,
  "nbformat_minor": 0,
  "metadata": {
    "colab": {
      "provenance": []
    },
    "kernelspec": {
      "name": "python3",
      "display_name": "Python 3"
    },
    "language_info": {
      "name": "python"
    }
  },
  "cells": [
    {
      "cell_type": "code",
      "execution_count": null,
      "metadata": {
        "colab": {
          "base_uri": "https://localhost:8080/"
        },
        "id": "6PRX4gfg8b6Z",
        "outputId": "967562e3-59c7-4805-bcbc-a032c96a62ff"
      },
      "outputs": [
        {
          "output_type": "stream",
          "name": "stdout",
          "text": [
            "[Errno 2] No such file or directory: '/content/drive/MyDrive/전주시 공모전/데이터'\n",
            "/content\n"
          ]
        }
      ],
      "source": [
        "%cd /content/drive/MyDrive/전주시 공모전/데이터"
      ]
    },
    {
      "cell_type": "code",
      "source": [
        "!pip install haversine"
      ],
      "metadata": {
        "colab": {
          "base_uri": "https://localhost:8080/"
        },
        "id": "JIGA2dvfTXFi",
        "outputId": "4b283c3d-6314-4ada-a397-f316f8e94b0c"
      },
      "execution_count": null,
      "outputs": [
        {
          "output_type": "stream",
          "name": "stdout",
          "text": [
            "Collecting haversine\n",
            "  Downloading haversine-2.8.1-py2.py3-none-any.whl (7.7 kB)\n",
            "Installing collected packages: haversine\n",
            "Successfully installed haversine-2.8.1\n"
          ]
        }
      ]
    },
    {
      "cell_type": "code",
      "source": [
        "!pip install gurobipy"
      ],
      "metadata": {
        "colab": {
          "base_uri": "https://localhost:8080/"
        },
        "id": "zC1XiN-oA9cP",
        "outputId": "46b2cd8d-10a4-4c39-b05b-b2f799675303"
      },
      "execution_count": null,
      "outputs": [
        {
          "output_type": "stream",
          "name": "stdout",
          "text": [
            "Collecting gurobipy\n",
            "  Downloading gurobipy-11.0.2-cp310-cp310-manylinux2014_x86_64.manylinux_2_17_x86_64.whl (13.4 MB)\n",
            "\u001b[2K     \u001b[90m━━━━━━━━━━━━━━━━━━━━━━━━━━━━━━━━━━━━━━━━\u001b[0m \u001b[32m13.4/13.4 MB\u001b[0m \u001b[31m74.2 MB/s\u001b[0m eta \u001b[36m0:00:00\u001b[0m\n",
            "\u001b[?25hInstalling collected packages: gurobipy\n",
            "Successfully installed gurobipy-11.0.2\n"
          ]
        }
      ]
    },
    {
      "cell_type": "code",
      "source": [
        "import numpy as np\n",
        "from scipy.spatial import distance_matrix\n",
        "from gurobipy import *\n",
        "from numpy import random\n",
        "import time\n",
        "import pandas as pd\n",
        "from haversine import haversine"
      ],
      "metadata": {
        "id": "tCBbScNpTKhB"
      },
      "execution_count": null,
      "outputs": []
    },
    {
      "cell_type": "code",
      "source": [
        "from google.colab import drive\n",
        "drive.mount('/content/drive')"
      ],
      "metadata": {
        "colab": {
          "base_uri": "https://localhost:8080/"
        },
        "id": "PCDpcGpahBM7",
        "outputId": "724ca6fc-0d40-4902-b269-1502705dd41c"
      },
      "execution_count": null,
      "outputs": [
        {
          "output_type": "stream",
          "name": "stdout",
          "text": [
            "Mounted at /content/drive\n"
          ]
        }
      ]
    },
    {
      "cell_type": "markdown",
      "source": [
        "# CCTV"
      ],
      "metadata": {
        "id": "FdJfTIhUt2-u"
      }
    },
    {
      "cell_type": "code",
      "source": [
        "df1 = pd.read_csv('/content/drive/MyDrive/전주시 공모전/전주시_법정동_최종_데이터/전주시_CCTV_법정동.csv',encoding = 'utf-8')\n",
        "len(df1)"
      ],
      "metadata": {
        "colab": {
          "base_uri": "https://localhost:8080/"
        },
        "id": "_OgFJOTNt2dY",
        "outputId": "73fe05dd-49f2-4935-ad50-33bc9de28732"
      },
      "execution_count": null,
      "outputs": [
        {
          "output_type": "execute_result",
          "data": {
            "text/plain": [
              "267"
            ]
          },
          "metadata": {},
          "execution_count": 54
        }
      ]
    },
    {
      "cell_type": "code",
      "source": [
        "coords_list = [\n",
        "    [ 35.774881  , 127.0958734 ],\n",
        "       [ 35.8000853 , 127.1322227 ],\n",
        "       [ 35.79791418, 127.1162367 ],\n",
        "       [ 35.79298434, 127.104789  ],\n",
        "       [ 35.796362  , 127.088843  ],\n",
        "       [ 35.77969881, 127.101565  ],\n",
        "       [ 35.79724721, 127.1238464 ],\n",
        "       [ 35.76514096, 127.0929286 ],\n",
        "       [ 35.79227508, 127.1145576 ],\n",
        "       [ 35.79410261, 127.0778006 ]\n",
        "    ]\n",
        "cctv = df1\n",
        "# 빈 데이터프레임 생성\n",
        "result = pd.DataFrame()\n",
        "\n",
        "# 각 좌표에 대해 필터링 수행\n",
        "for coords in coords_list:\n",
        "    위도, 경도 = coords\n",
        "    temp_result = cctv[(cctv['WGS84위도'] == 위도) & (cctv['WGS84경도'] == 경도)]\n",
        "    result = pd.concat([result, temp_result])\n",
        "\n",
        "result"
      ],
      "metadata": {
        "colab": {
          "base_uri": "https://localhost:8080/",
          "height": 1000
        },
        "id": "w2tW70ceGJM3",
        "outputId": "fe3273df-13af-4786-a88c-e4227110afe8"
      },
      "execution_count": null,
      "outputs": [
        {
          "output_type": "execute_result",
          "data": {
            "text/plain": [
              "       번호         관리기관명                   소재지도로명주소  \\\n",
              "1       7  전북특별자치도 전주시청                        NaN   \n",
              "27    135  전북특별자치도 전주시청    전북특별자치도 전주시 완산구 안행8길 30   \n",
              "31    142  전북특별자치도 전주시청  전북특별자치도 전주시 완산구 삼천천변3길 60   \n",
              "37    198  전북특별자치도 전주시청   전북특별자치도 전주시 완산구 용산마을길 18   \n",
              "61    369  전북특별자치도 전주시청                        NaN   \n",
              "82    537  전북특별자치도 전주시청                        NaN   \n",
              "89    626  전북특별자치도 전주시청   전북특별자치도 전주시 완산구 거마산2길4-7   \n",
              "159  1013  전북특별자치도 전주시청   전북특별자치도 전주시 완산구 중인1길 157   \n",
              "163  1023  전북특별자치도 전주시청   전북특별자치도 전주시 완산구 장승배기로 14   \n",
              "211  1320  전북특별자치도 전주시청  전북특별자치도 전주시 완산구 쑥고개옛길 126   \n",
              "\n",
              "                          소재지지번주소 설치목적구분  카메라대수  카메라화소수    촬영방면정보  보관일수  \\\n",
              "1       전북특별자치도 전주시 완산구 용복동 539-1   생활방범      3     200  360도 전방면    30   \n",
              "27    전북특별자치도 전주시 완산구 삼천동1가 752-4  어린이보호      3     200  360도 전방면    30   \n",
              "31   전북특별자치도 전주시 완산구 삼천동1가 287-11  어린이보호      2     200  360도 전방면    30   \n",
              "37    전북특별자치도 전주시 완산구 삼천동2가 209-4   생활방범      3     200  360도 전방면    30   \n",
              "61      전북특별자치도 전주시 완산구 삼천동3가 6-7  어린이보호      2     200  360도 전방면    30   \n",
              "82    전북특별자치도 전주시 완산구 삼천동2가 426-1   생활방범      1     200  360도 전방면    30   \n",
              "89   전북특별자치도 전주시 완산구 삼천동1가 625-12   생활방범      3     200  360도 전방면    30   \n",
              "159     전북특별자치도 전주시 완산구 중인동 868-1   생활방범      2     200  360도 전방면    30   \n",
              "163  전북특별자치도 전주시 완산구 삼천동1가 305-43  어린이보호      3     200  360도 전방면    30   \n",
              "211     전북특별자치도 전주시 완산구 삼천동3가 689   생활방범      3     200  360도 전방면    30   \n",
              "\n",
              "        설치연월      관리기관전화번호    WGS84위도     WGS84경도     데이터기준일자  행정동    법정동  \n",
              "1    2017-01  063-281-2072  35.774881  127.095873  2022-08-25  삼천동    용복동  \n",
              "27   2015-01  063-281-2072  35.800085  127.132223  2022-08-25  삼천동  삼천동1가  \n",
              "31   2015-01  063-281-2072  35.797914  127.116237  2022-08-25  삼천동  삼천동1가  \n",
              "37   2019-01  063-281-2072  35.792984  127.104789  2022-08-25  삼천동  삼천동2가  \n",
              "61   2018-01  063-281-2072  35.796362  127.088843  2022-08-25  삼천동  삼천동3가  \n",
              "82   2014-01  063-281-2072  35.779699  127.101565  2022-08-25  삼천동  삼천동2가  \n",
              "89   2015-01  063-281-2072  35.797247  127.123846  2022-08-25  삼천동  삼천동1가  \n",
              "159  2014-01  063-281-2072  35.765141  127.092929  2022-08-25  삼천동    중인동  \n",
              "163  2009-01  063-281-2072  35.792275  127.114558  2022-08-25  삼천동  삼천동1가  \n",
              "211  2016-01  063-281-2072  35.794103  127.077801  2022-08-25  삼천동  삼천동3가  "
            ],
            "text/html": [
              "\n",
              "  <div id=\"df-c52b8ced-7eca-4802-86e4-0484251526d9\" class=\"colab-df-container\">\n",
              "    <div>\n",
              "<style scoped>\n",
              "    .dataframe tbody tr th:only-of-type {\n",
              "        vertical-align: middle;\n",
              "    }\n",
              "\n",
              "    .dataframe tbody tr th {\n",
              "        vertical-align: top;\n",
              "    }\n",
              "\n",
              "    .dataframe thead th {\n",
              "        text-align: right;\n",
              "    }\n",
              "</style>\n",
              "<table border=\"1\" class=\"dataframe\">\n",
              "  <thead>\n",
              "    <tr style=\"text-align: right;\">\n",
              "      <th></th>\n",
              "      <th>번호</th>\n",
              "      <th>관리기관명</th>\n",
              "      <th>소재지도로명주소</th>\n",
              "      <th>소재지지번주소</th>\n",
              "      <th>설치목적구분</th>\n",
              "      <th>카메라대수</th>\n",
              "      <th>카메라화소수</th>\n",
              "      <th>촬영방면정보</th>\n",
              "      <th>보관일수</th>\n",
              "      <th>설치연월</th>\n",
              "      <th>관리기관전화번호</th>\n",
              "      <th>WGS84위도</th>\n",
              "      <th>WGS84경도</th>\n",
              "      <th>데이터기준일자</th>\n",
              "      <th>행정동</th>\n",
              "      <th>법정동</th>\n",
              "    </tr>\n",
              "  </thead>\n",
              "  <tbody>\n",
              "    <tr>\n",
              "      <th>1</th>\n",
              "      <td>7</td>\n",
              "      <td>전북특별자치도 전주시청</td>\n",
              "      <td>NaN</td>\n",
              "      <td>전북특별자치도 전주시 완산구 용복동 539-1</td>\n",
              "      <td>생활방범</td>\n",
              "      <td>3</td>\n",
              "      <td>200</td>\n",
              "      <td>360도 전방면</td>\n",
              "      <td>30</td>\n",
              "      <td>2017-01</td>\n",
              "      <td>063-281-2072</td>\n",
              "      <td>35.774881</td>\n",
              "      <td>127.095873</td>\n",
              "      <td>2022-08-25</td>\n",
              "      <td>삼천동</td>\n",
              "      <td>용복동</td>\n",
              "    </tr>\n",
              "    <tr>\n",
              "      <th>27</th>\n",
              "      <td>135</td>\n",
              "      <td>전북특별자치도 전주시청</td>\n",
              "      <td>전북특별자치도 전주시 완산구 안행8길 30</td>\n",
              "      <td>전북특별자치도 전주시 완산구 삼천동1가 752-4</td>\n",
              "      <td>어린이보호</td>\n",
              "      <td>3</td>\n",
              "      <td>200</td>\n",
              "      <td>360도 전방면</td>\n",
              "      <td>30</td>\n",
              "      <td>2015-01</td>\n",
              "      <td>063-281-2072</td>\n",
              "      <td>35.800085</td>\n",
              "      <td>127.132223</td>\n",
              "      <td>2022-08-25</td>\n",
              "      <td>삼천동</td>\n",
              "      <td>삼천동1가</td>\n",
              "    </tr>\n",
              "    <tr>\n",
              "      <th>31</th>\n",
              "      <td>142</td>\n",
              "      <td>전북특별자치도 전주시청</td>\n",
              "      <td>전북특별자치도 전주시 완산구 삼천천변3길 60</td>\n",
              "      <td>전북특별자치도 전주시 완산구 삼천동1가 287-11</td>\n",
              "      <td>어린이보호</td>\n",
              "      <td>2</td>\n",
              "      <td>200</td>\n",
              "      <td>360도 전방면</td>\n",
              "      <td>30</td>\n",
              "      <td>2015-01</td>\n",
              "      <td>063-281-2072</td>\n",
              "      <td>35.797914</td>\n",
              "      <td>127.116237</td>\n",
              "      <td>2022-08-25</td>\n",
              "      <td>삼천동</td>\n",
              "      <td>삼천동1가</td>\n",
              "    </tr>\n",
              "    <tr>\n",
              "      <th>37</th>\n",
              "      <td>198</td>\n",
              "      <td>전북특별자치도 전주시청</td>\n",
              "      <td>전북특별자치도 전주시 완산구 용산마을길 18</td>\n",
              "      <td>전북특별자치도 전주시 완산구 삼천동2가 209-4</td>\n",
              "      <td>생활방범</td>\n",
              "      <td>3</td>\n",
              "      <td>200</td>\n",
              "      <td>360도 전방면</td>\n",
              "      <td>30</td>\n",
              "      <td>2019-01</td>\n",
              "      <td>063-281-2072</td>\n",
              "      <td>35.792984</td>\n",
              "      <td>127.104789</td>\n",
              "      <td>2022-08-25</td>\n",
              "      <td>삼천동</td>\n",
              "      <td>삼천동2가</td>\n",
              "    </tr>\n",
              "    <tr>\n",
              "      <th>61</th>\n",
              "      <td>369</td>\n",
              "      <td>전북특별자치도 전주시청</td>\n",
              "      <td>NaN</td>\n",
              "      <td>전북특별자치도 전주시 완산구 삼천동3가 6-7</td>\n",
              "      <td>어린이보호</td>\n",
              "      <td>2</td>\n",
              "      <td>200</td>\n",
              "      <td>360도 전방면</td>\n",
              "      <td>30</td>\n",
              "      <td>2018-01</td>\n",
              "      <td>063-281-2072</td>\n",
              "      <td>35.796362</td>\n",
              "      <td>127.088843</td>\n",
              "      <td>2022-08-25</td>\n",
              "      <td>삼천동</td>\n",
              "      <td>삼천동3가</td>\n",
              "    </tr>\n",
              "    <tr>\n",
              "      <th>82</th>\n",
              "      <td>537</td>\n",
              "      <td>전북특별자치도 전주시청</td>\n",
              "      <td>NaN</td>\n",
              "      <td>전북특별자치도 전주시 완산구 삼천동2가 426-1</td>\n",
              "      <td>생활방범</td>\n",
              "      <td>1</td>\n",
              "      <td>200</td>\n",
              "      <td>360도 전방면</td>\n",
              "      <td>30</td>\n",
              "      <td>2014-01</td>\n",
              "      <td>063-281-2072</td>\n",
              "      <td>35.779699</td>\n",
              "      <td>127.101565</td>\n",
              "      <td>2022-08-25</td>\n",
              "      <td>삼천동</td>\n",
              "      <td>삼천동2가</td>\n",
              "    </tr>\n",
              "    <tr>\n",
              "      <th>89</th>\n",
              "      <td>626</td>\n",
              "      <td>전북특별자치도 전주시청</td>\n",
              "      <td>전북특별자치도 전주시 완산구 거마산2길4-7</td>\n",
              "      <td>전북특별자치도 전주시 완산구 삼천동1가 625-12</td>\n",
              "      <td>생활방범</td>\n",
              "      <td>3</td>\n",
              "      <td>200</td>\n",
              "      <td>360도 전방면</td>\n",
              "      <td>30</td>\n",
              "      <td>2015-01</td>\n",
              "      <td>063-281-2072</td>\n",
              "      <td>35.797247</td>\n",
              "      <td>127.123846</td>\n",
              "      <td>2022-08-25</td>\n",
              "      <td>삼천동</td>\n",
              "      <td>삼천동1가</td>\n",
              "    </tr>\n",
              "    <tr>\n",
              "      <th>159</th>\n",
              "      <td>1013</td>\n",
              "      <td>전북특별자치도 전주시청</td>\n",
              "      <td>전북특별자치도 전주시 완산구 중인1길 157</td>\n",
              "      <td>전북특별자치도 전주시 완산구 중인동 868-1</td>\n",
              "      <td>생활방범</td>\n",
              "      <td>2</td>\n",
              "      <td>200</td>\n",
              "      <td>360도 전방면</td>\n",
              "      <td>30</td>\n",
              "      <td>2014-01</td>\n",
              "      <td>063-281-2072</td>\n",
              "      <td>35.765141</td>\n",
              "      <td>127.092929</td>\n",
              "      <td>2022-08-25</td>\n",
              "      <td>삼천동</td>\n",
              "      <td>중인동</td>\n",
              "    </tr>\n",
              "    <tr>\n",
              "      <th>163</th>\n",
              "      <td>1023</td>\n",
              "      <td>전북특별자치도 전주시청</td>\n",
              "      <td>전북특별자치도 전주시 완산구 장승배기로 14</td>\n",
              "      <td>전북특별자치도 전주시 완산구 삼천동1가 305-43</td>\n",
              "      <td>어린이보호</td>\n",
              "      <td>3</td>\n",
              "      <td>200</td>\n",
              "      <td>360도 전방면</td>\n",
              "      <td>30</td>\n",
              "      <td>2009-01</td>\n",
              "      <td>063-281-2072</td>\n",
              "      <td>35.792275</td>\n",
              "      <td>127.114558</td>\n",
              "      <td>2022-08-25</td>\n",
              "      <td>삼천동</td>\n",
              "      <td>삼천동1가</td>\n",
              "    </tr>\n",
              "    <tr>\n",
              "      <th>211</th>\n",
              "      <td>1320</td>\n",
              "      <td>전북특별자치도 전주시청</td>\n",
              "      <td>전북특별자치도 전주시 완산구 쑥고개옛길 126</td>\n",
              "      <td>전북특별자치도 전주시 완산구 삼천동3가 689</td>\n",
              "      <td>생활방범</td>\n",
              "      <td>3</td>\n",
              "      <td>200</td>\n",
              "      <td>360도 전방면</td>\n",
              "      <td>30</td>\n",
              "      <td>2016-01</td>\n",
              "      <td>063-281-2072</td>\n",
              "      <td>35.794103</td>\n",
              "      <td>127.077801</td>\n",
              "      <td>2022-08-25</td>\n",
              "      <td>삼천동</td>\n",
              "      <td>삼천동3가</td>\n",
              "    </tr>\n",
              "  </tbody>\n",
              "</table>\n",
              "</div>\n",
              "    <div class=\"colab-df-buttons\">\n",
              "\n",
              "  <div class=\"colab-df-container\">\n",
              "    <button class=\"colab-df-convert\" onclick=\"convertToInteractive('df-c52b8ced-7eca-4802-86e4-0484251526d9')\"\n",
              "            title=\"Convert this dataframe to an interactive table.\"\n",
              "            style=\"display:none;\">\n",
              "\n",
              "  <svg xmlns=\"http://www.w3.org/2000/svg\" height=\"24px\" viewBox=\"0 -960 960 960\">\n",
              "    <path d=\"M120-120v-720h720v720H120Zm60-500h600v-160H180v160Zm220 220h160v-160H400v160Zm0 220h160v-160H400v160ZM180-400h160v-160H180v160Zm440 0h160v-160H620v160ZM180-180h160v-160H180v160Zm440 0h160v-160H620v160Z\"/>\n",
              "  </svg>\n",
              "    </button>\n",
              "\n",
              "  <style>\n",
              "    .colab-df-container {\n",
              "      display:flex;\n",
              "      gap: 12px;\n",
              "    }\n",
              "\n",
              "    .colab-df-convert {\n",
              "      background-color: #E8F0FE;\n",
              "      border: none;\n",
              "      border-radius: 50%;\n",
              "      cursor: pointer;\n",
              "      display: none;\n",
              "      fill: #1967D2;\n",
              "      height: 32px;\n",
              "      padding: 0 0 0 0;\n",
              "      width: 32px;\n",
              "    }\n",
              "\n",
              "    .colab-df-convert:hover {\n",
              "      background-color: #E2EBFA;\n",
              "      box-shadow: 0px 1px 2px rgba(60, 64, 67, 0.3), 0px 1px 3px 1px rgba(60, 64, 67, 0.15);\n",
              "      fill: #174EA6;\n",
              "    }\n",
              "\n",
              "    .colab-df-buttons div {\n",
              "      margin-bottom: 4px;\n",
              "    }\n",
              "\n",
              "    [theme=dark] .colab-df-convert {\n",
              "      background-color: #3B4455;\n",
              "      fill: #D2E3FC;\n",
              "    }\n",
              "\n",
              "    [theme=dark] .colab-df-convert:hover {\n",
              "      background-color: #434B5C;\n",
              "      box-shadow: 0px 1px 3px 1px rgba(0, 0, 0, 0.15);\n",
              "      filter: drop-shadow(0px 1px 2px rgba(0, 0, 0, 0.3));\n",
              "      fill: #FFFFFF;\n",
              "    }\n",
              "  </style>\n",
              "\n",
              "    <script>\n",
              "      const buttonEl =\n",
              "        document.querySelector('#df-c52b8ced-7eca-4802-86e4-0484251526d9 button.colab-df-convert');\n",
              "      buttonEl.style.display =\n",
              "        google.colab.kernel.accessAllowed ? 'block' : 'none';\n",
              "\n",
              "      async function convertToInteractive(key) {\n",
              "        const element = document.querySelector('#df-c52b8ced-7eca-4802-86e4-0484251526d9');\n",
              "        const dataTable =\n",
              "          await google.colab.kernel.invokeFunction('convertToInteractive',\n",
              "                                                    [key], {});\n",
              "        if (!dataTable) return;\n",
              "\n",
              "        const docLinkHtml = 'Like what you see? Visit the ' +\n",
              "          '<a target=\"_blank\" href=https://colab.research.google.com/notebooks/data_table.ipynb>data table notebook</a>'\n",
              "          + ' to learn more about interactive tables.';\n",
              "        element.innerHTML = '';\n",
              "        dataTable['output_type'] = 'display_data';\n",
              "        await google.colab.output.renderOutput(dataTable, element);\n",
              "        const docLink = document.createElement('div');\n",
              "        docLink.innerHTML = docLinkHtml;\n",
              "        element.appendChild(docLink);\n",
              "      }\n",
              "    </script>\n",
              "  </div>\n",
              "\n",
              "\n",
              "<div id=\"df-5d92aca3-68d1-4e44-b313-443ae90bb300\">\n",
              "  <button class=\"colab-df-quickchart\" onclick=\"quickchart('df-5d92aca3-68d1-4e44-b313-443ae90bb300')\"\n",
              "            title=\"Suggest charts\"\n",
              "            style=\"display:none;\">\n",
              "\n",
              "<svg xmlns=\"http://www.w3.org/2000/svg\" height=\"24px\"viewBox=\"0 0 24 24\"\n",
              "     width=\"24px\">\n",
              "    <g>\n",
              "        <path d=\"M19 3H5c-1.1 0-2 .9-2 2v14c0 1.1.9 2 2 2h14c1.1 0 2-.9 2-2V5c0-1.1-.9-2-2-2zM9 17H7v-7h2v7zm4 0h-2V7h2v10zm4 0h-2v-4h2v4z\"/>\n",
              "    </g>\n",
              "</svg>\n",
              "  </button>\n",
              "\n",
              "<style>\n",
              "  .colab-df-quickchart {\n",
              "      --bg-color: #E8F0FE;\n",
              "      --fill-color: #1967D2;\n",
              "      --hover-bg-color: #E2EBFA;\n",
              "      --hover-fill-color: #174EA6;\n",
              "      --disabled-fill-color: #AAA;\n",
              "      --disabled-bg-color: #DDD;\n",
              "  }\n",
              "\n",
              "  [theme=dark] .colab-df-quickchart {\n",
              "      --bg-color: #3B4455;\n",
              "      --fill-color: #D2E3FC;\n",
              "      --hover-bg-color: #434B5C;\n",
              "      --hover-fill-color: #FFFFFF;\n",
              "      --disabled-bg-color: #3B4455;\n",
              "      --disabled-fill-color: #666;\n",
              "  }\n",
              "\n",
              "  .colab-df-quickchart {\n",
              "    background-color: var(--bg-color);\n",
              "    border: none;\n",
              "    border-radius: 50%;\n",
              "    cursor: pointer;\n",
              "    display: none;\n",
              "    fill: var(--fill-color);\n",
              "    height: 32px;\n",
              "    padding: 0;\n",
              "    width: 32px;\n",
              "  }\n",
              "\n",
              "  .colab-df-quickchart:hover {\n",
              "    background-color: var(--hover-bg-color);\n",
              "    box-shadow: 0 1px 2px rgba(60, 64, 67, 0.3), 0 1px 3px 1px rgba(60, 64, 67, 0.15);\n",
              "    fill: var(--button-hover-fill-color);\n",
              "  }\n",
              "\n",
              "  .colab-df-quickchart-complete:disabled,\n",
              "  .colab-df-quickchart-complete:disabled:hover {\n",
              "    background-color: var(--disabled-bg-color);\n",
              "    fill: var(--disabled-fill-color);\n",
              "    box-shadow: none;\n",
              "  }\n",
              "\n",
              "  .colab-df-spinner {\n",
              "    border: 2px solid var(--fill-color);\n",
              "    border-color: transparent;\n",
              "    border-bottom-color: var(--fill-color);\n",
              "    animation:\n",
              "      spin 1s steps(1) infinite;\n",
              "  }\n",
              "\n",
              "  @keyframes spin {\n",
              "    0% {\n",
              "      border-color: transparent;\n",
              "      border-bottom-color: var(--fill-color);\n",
              "      border-left-color: var(--fill-color);\n",
              "    }\n",
              "    20% {\n",
              "      border-color: transparent;\n",
              "      border-left-color: var(--fill-color);\n",
              "      border-top-color: var(--fill-color);\n",
              "    }\n",
              "    30% {\n",
              "      border-color: transparent;\n",
              "      border-left-color: var(--fill-color);\n",
              "      border-top-color: var(--fill-color);\n",
              "      border-right-color: var(--fill-color);\n",
              "    }\n",
              "    40% {\n",
              "      border-color: transparent;\n",
              "      border-right-color: var(--fill-color);\n",
              "      border-top-color: var(--fill-color);\n",
              "    }\n",
              "    60% {\n",
              "      border-color: transparent;\n",
              "      border-right-color: var(--fill-color);\n",
              "    }\n",
              "    80% {\n",
              "      border-color: transparent;\n",
              "      border-right-color: var(--fill-color);\n",
              "      border-bottom-color: var(--fill-color);\n",
              "    }\n",
              "    90% {\n",
              "      border-color: transparent;\n",
              "      border-bottom-color: var(--fill-color);\n",
              "    }\n",
              "  }\n",
              "</style>\n",
              "\n",
              "  <script>\n",
              "    async function quickchart(key) {\n",
              "      const quickchartButtonEl =\n",
              "        document.querySelector('#' + key + ' button');\n",
              "      quickchartButtonEl.disabled = true;  // To prevent multiple clicks.\n",
              "      quickchartButtonEl.classList.add('colab-df-spinner');\n",
              "      try {\n",
              "        const charts = await google.colab.kernel.invokeFunction(\n",
              "            'suggestCharts', [key], {});\n",
              "      } catch (error) {\n",
              "        console.error('Error during call to suggestCharts:', error);\n",
              "      }\n",
              "      quickchartButtonEl.classList.remove('colab-df-spinner');\n",
              "      quickchartButtonEl.classList.add('colab-df-quickchart-complete');\n",
              "    }\n",
              "    (() => {\n",
              "      let quickchartButtonEl =\n",
              "        document.querySelector('#df-5d92aca3-68d1-4e44-b313-443ae90bb300 button');\n",
              "      quickchartButtonEl.style.display =\n",
              "        google.colab.kernel.accessAllowed ? 'block' : 'none';\n",
              "    })();\n",
              "  </script>\n",
              "</div>\n",
              "\n",
              "  <div id=\"id_b8273b66-717f-43af-80d1-919c8a6c34dd\">\n",
              "    <style>\n",
              "      .colab-df-generate {\n",
              "        background-color: #E8F0FE;\n",
              "        border: none;\n",
              "        border-radius: 50%;\n",
              "        cursor: pointer;\n",
              "        display: none;\n",
              "        fill: #1967D2;\n",
              "        height: 32px;\n",
              "        padding: 0 0 0 0;\n",
              "        width: 32px;\n",
              "      }\n",
              "\n",
              "      .colab-df-generate:hover {\n",
              "        background-color: #E2EBFA;\n",
              "        box-shadow: 0px 1px 2px rgba(60, 64, 67, 0.3), 0px 1px 3px 1px rgba(60, 64, 67, 0.15);\n",
              "        fill: #174EA6;\n",
              "      }\n",
              "\n",
              "      [theme=dark] .colab-df-generate {\n",
              "        background-color: #3B4455;\n",
              "        fill: #D2E3FC;\n",
              "      }\n",
              "\n",
              "      [theme=dark] .colab-df-generate:hover {\n",
              "        background-color: #434B5C;\n",
              "        box-shadow: 0px 1px 3px 1px rgba(0, 0, 0, 0.15);\n",
              "        filter: drop-shadow(0px 1px 2px rgba(0, 0, 0, 0.3));\n",
              "        fill: #FFFFFF;\n",
              "      }\n",
              "    </style>\n",
              "    <button class=\"colab-df-generate\" onclick=\"generateWithVariable('result')\"\n",
              "            title=\"Generate code using this dataframe.\"\n",
              "            style=\"display:none;\">\n",
              "\n",
              "  <svg xmlns=\"http://www.w3.org/2000/svg\" height=\"24px\"viewBox=\"0 0 24 24\"\n",
              "       width=\"24px\">\n",
              "    <path d=\"M7,19H8.4L18.45,9,17,7.55,7,17.6ZM5,21V16.75L18.45,3.32a2,2,0,0,1,2.83,0l1.4,1.43a1.91,1.91,0,0,1,.58,1.4,1.91,1.91,0,0,1-.58,1.4L9.25,21ZM18.45,9,17,7.55Zm-12,3A5.31,5.31,0,0,0,4.9,8.1,5.31,5.31,0,0,0,1,6.5,5.31,5.31,0,0,0,4.9,4.9,5.31,5.31,0,0,0,6.5,1,5.31,5.31,0,0,0,8.1,4.9,5.31,5.31,0,0,0,12,6.5,5.46,5.46,0,0,0,6.5,12Z\"/>\n",
              "  </svg>\n",
              "    </button>\n",
              "    <script>\n",
              "      (() => {\n",
              "      const buttonEl =\n",
              "        document.querySelector('#id_b8273b66-717f-43af-80d1-919c8a6c34dd button.colab-df-generate');\n",
              "      buttonEl.style.display =\n",
              "        google.colab.kernel.accessAllowed ? 'block' : 'none';\n",
              "\n",
              "      buttonEl.onclick = () => {\n",
              "        google.colab.notebook.generateWithVariable('result');\n",
              "      }\n",
              "      })();\n",
              "    </script>\n",
              "  </div>\n",
              "\n",
              "    </div>\n",
              "  </div>\n"
            ],
            "application/vnd.google.colaboratory.intrinsic+json": {
              "type": "dataframe",
              "variable_name": "result",
              "repr_error": "0"
            }
          },
          "metadata": {},
          "execution_count": 55
        }
      ]
    },
    {
      "cell_type": "code",
      "source": [
        "result['소재지지번주소']"
      ],
      "metadata": {
        "colab": {
          "base_uri": "https://localhost:8080/"
        },
        "id": "TnQkcdpCgRGe",
        "outputId": "280ceec7-b508-4801-d6aa-0645a18946cc"
      },
      "execution_count": null,
      "outputs": [
        {
          "output_type": "execute_result",
          "data": {
            "text/plain": [
              "1         전북특별자치도 전주시 완산구 용복동 539-1\n",
              "27      전북특별자치도 전주시 완산구 삼천동1가 752-4\n",
              "31     전북특별자치도 전주시 완산구 삼천동1가 287-11\n",
              "37      전북특별자치도 전주시 완산구 삼천동2가 209-4\n",
              "61        전북특별자치도 전주시 완산구 삼천동3가 6-7\n",
              "82      전북특별자치도 전주시 완산구 삼천동2가 426-1\n",
              "89     전북특별자치도 전주시 완산구 삼천동1가 625-12\n",
              "159       전북특별자치도 전주시 완산구 중인동 868-1\n",
              "163    전북특별자치도 전주시 완산구 삼천동1가 305-43\n",
              "211       전북특별자치도 전주시 완산구 삼천동3가 689\n",
              "Name: 소재지지번주소, dtype: object"
            ]
          },
          "metadata": {},
          "execution_count": 56
        }
      ]
    },
    {
      "cell_type": "code",
      "source": [
        "# # 확인할 좌표 리스트\n",
        "# coords1 = [\n",
        "#     [35.79789971, 127.1283968],\n",
        "#     [35.7977366, 127.114272],\n",
        "#     [35.79344236, 127.1151093]\n",
        "# ]\n",
        "\n",
        "# # 각 좌표가 CCTV 데이터 프레임에 속해있는지 확인\n",
        "# for coord in coords1:\n",
        "#     위도, 경도 = coord\n",
        "#     if ((cctv['위도'] == 위도) & (cctv['경도'] == 경도)).any():\n",
        "#         print(f\"좌표 ({위도}, {경도})는 CCTV 데이터 프레임에 존재합니다.\")\n",
        "#     else:\n",
        "#         print(f\"좌표 ({위도}, {경도})는 CCTV 데이터 프레임에 존재하지 않습니다.\")"
      ],
      "metadata": {
        "id": "0wMMLhoZwAem"
      },
      "execution_count": null,
      "outputs": []
    },
    {
      "cell_type": "code",
      "source": [
        "# # 확인할 좌표 리스트-송천동\n",
        "# coords3 = [\n",
        "#     [ 35.79333984, 127.1411975 ],\n",
        "#        [ 35.80041239, 127.1425856 ],\n",
        "#        [ 35.79264502, 127.1358235 ]\n",
        "#     ]\n",
        "# cctv = df1\n",
        "# # 각 좌표가 CCTV 데이터 프레임에 속해있는지 확인\n",
        "# for coord in coords3:\n",
        "#     위도, 경도 = coord\n",
        "#     if ((cctv['위도'] == 위도) & (cctv['경도'] == 경도)).any():\n",
        "#         print(f\"좌표 ({위도}, {경도})는 CCTV 데이터 프레임에 존재합니다.\")\n",
        "#     else:\n",
        "#         print(f\"좌표 ({위도}, {경도})는 CCTV 데이터 프레임에 존재하지 않습니다.\")"
      ],
      "metadata": {
        "id": "ocdFjC5evad5"
      },
      "execution_count": null,
      "outputs": []
    },
    {
      "cell_type": "code",
      "source": [
        "# # 확인할 좌표 리스트-평화동\n",
        "# coords3 = [\n",
        "#     [ 35.86402241, 127.1228155 ],\n",
        "#        [ 35.85582666, 127.1210558 ],\n",
        "#        [ 35.86606542, 127.1134098 ]\n",
        "#     ]\n",
        "# cctv = df1\n",
        "# # 각 좌표가 CCTV 데이터 프레임에 속해있는지 확인\n",
        "# for coord in coords2:\n",
        "#     위도, 경도 = coord\n",
        "#     if ((cctv['위도'] == 위도) & (cctv['경도'] == 경도)).any():\n",
        "#         print(f\"좌표 ({위도}, {경도})는 CCTV 데이터 프레임에 존재합니다.\")\n",
        "#     else:\n",
        "#         print(f\"좌표 ({위도}, {경도})는 CCTV 데이터 프레임에 존재하지 않습니다.\")"
      ],
      "metadata": {
        "id": "_slFjG_lvpt_"
      },
      "execution_count": null,
      "outputs": []
    },
    {
      "cell_type": "markdown",
      "source": [
        "## 삼천동"
      ],
      "metadata": {
        "id": "shk60vsGd85B"
      }
    },
    {
      "cell_type": "code",
      "source": [
        "place = pd.read_csv('/content/drive/MyDrive/전주시 공모전/전주시_법정동_최종_데이터/전주시_주택_법정동.csv', encoding='utf-8')\n",
        "place = place[place['법정동'].str.contains('삼천' or '중인' or '용복')]"
      ],
      "metadata": {
        "id": "JPKoJrfi0xCA"
      },
      "execution_count": null,
      "outputs": []
    },
    {
      "cell_type": "code",
      "source": [
        "df1 = pd.read_csv('/content/drive/MyDrive/전주시 공모전/전주시_법정동_최종_데이터/전주시_CCTV_법정동.csv',encoding = 'utf-8')\n",
        "df1_cctv = df1[df1['법정동'].str.contains('삼천동1가|삼천동2가|삼천동3가|중인동|용복동')]\n",
        "\n",
        "len(df1_cctv)"
      ],
      "metadata": {
        "colab": {
          "base_uri": "https://localhost:8080/"
        },
        "id": "FCyR0PQ28z_R",
        "outputId": "9d99b799-6601-4915-d70b-6a97c54e5428"
      },
      "execution_count": null,
      "outputs": [
        {
          "output_type": "execute_result",
          "data": {
            "text/plain": [
              "86"
            ]
          },
          "metadata": {},
          "execution_count": 12
        }
      ]
    },
    {
      "cell_type": "code",
      "source": [
        "cctv_points = np.array([list(i) for i in zip(df1_cctv['WGS84위도'], df1_cctv['WGS84경도'])])\n",
        "cctv_points"
      ],
      "metadata": {
        "colab": {
          "base_uri": "https://localhost:8080/"
        },
        "id": "B9fQlV9283vu",
        "outputId": "4e2c554b-c7db-4a8c-9401-2f11bd3ce133"
      },
      "execution_count": null,
      "outputs": [
        {
          "output_type": "execute_result",
          "data": {
            "text/plain": [
              "array([[ 35.77586896, 127.0871401 ],\n",
              "       [ 35.774881  , 127.0958734 ],\n",
              "       [ 35.79910199, 127.1192354 ],\n",
              "       [ 35.79050408, 127.1128678 ],\n",
              "       [ 35.7982405 , 127.1218425 ],\n",
              "       [ 35.79525132, 127.1230817 ],\n",
              "       [ 35.79663498, 127.1239507 ],\n",
              "       [ 35.80071275, 127.1223256 ],\n",
              "       [ 35.80140453, 127.1232215 ],\n",
              "       [ 35.796971  , 127.118414  ],\n",
              "       [ 35.801526  , 127.122303  ],\n",
              "       [ 35.79435933, 127.1180338 ],\n",
              "       [ 35.8000853 , 127.1322227 ],\n",
              "       [ 35.79791418, 127.1162367 ],\n",
              "       [ 35.79371535, 127.1182376 ],\n",
              "       [ 35.79773144, 127.1172827 ],\n",
              "       [ 35.7998547 , 127.1315843 ],\n",
              "       [ 35.801664  , 127.129119  ],\n",
              "       [ 35.79446376, 127.1194607 ],\n",
              "       [ 35.79298434, 127.104789  ],\n",
              "       [ 35.79474659, 127.1172184 ],\n",
              "       [ 35.80081624, 127.1199918 ],\n",
              "       [ 35.79652185, 127.124337  ],\n",
              "       [ 35.79541232, 127.1196216 ],\n",
              "       [ 35.80103378, 127.1177012 ],\n",
              "       [ 35.80052039, 127.1291703 ],\n",
              "       [ 35.79693955, 127.1204853 ],\n",
              "       [ 35.79127863, 127.1181411 ],\n",
              "       [ 35.796362  , 127.088843  ],\n",
              "       [ 35.79930367, 127.1207151 ],\n",
              "       [ 35.80514521, 127.0702851 ],\n",
              "       [ 35.80110431, 127.1209309 ],\n",
              "       [ 35.77969881, 127.101565  ],\n",
              "       [ 35.77887628, 127.0995909 ],\n",
              "       [ 35.79114809, 127.119053  ],\n",
              "       [ 35.79724721, 127.1238464 ],\n",
              "       [ 35.79791418, 127.1129912 ],\n",
              "       [ 35.79445506, 127.1171379 ],\n",
              "       [ 35.79519041, 127.1249592 ],\n",
              "       [ 35.79616071, 127.1178997 ],\n",
              "       [ 35.79640528, 127.1220252 ],\n",
              "       [ 35.79555247, 127.1125838 ],\n",
              "       [ 35.80230513, 127.1185705 ],\n",
              "       [ 35.797522  , 127.122111  ],\n",
              "       [ 35.796046  , 127.124909  ],\n",
              "       [ 35.79362833, 127.1146756 ],\n",
              "       [ 35.80097815, 127.1189568 ],\n",
              "       [ 35.79618246, 127.11945   ],\n",
              "       [ 35.79814043, 127.1175349 ],\n",
              "       [ 35.76514096, 127.0929286 ],\n",
              "       [ 35.79035178, 127.1146488 ],\n",
              "       [ 35.79227508, 127.1145576 ],\n",
              "       [ 35.79505552, 127.1127176 ],\n",
              "       [ 35.79378497, 127.1128035 ],\n",
              "       [ 35.79505552, 127.1118379 ],\n",
              "       [ 35.79069989, 127.1163064 ],\n",
              "       [ 35.792978  , 127.117869  ],\n",
              "       [ 35.795686  , 127.108555  ],\n",
              "       [ 35.794907  , 127.10843   ],\n",
              "       [ 35.80066396, 127.133199  ],\n",
              "       [ 35.80216499, 127.117213  ],\n",
              "       [ 35.79896276, 127.1200347 ],\n",
              "       [ 35.76934038, 127.0785195 ],\n",
              "       [ 35.79498155, 127.1114087 ],\n",
              "       [ 35.80171251, 127.1284193 ],\n",
              "       [ 35.79520346, 127.1148527 ],\n",
              "       [ 35.79481491, 127.1214812 ],\n",
              "       [ 35.79410261, 127.0778006 ],\n",
              "       [ 35.76309856, 127.0648831 ],\n",
              "       [ 35.7991455 , 127.1206141 ],\n",
              "       [ 35.79610849, 127.1243691 ],\n",
              "       [ 35.79945098, 127.1107385 ],\n",
              "       [ 35.80203537, 127.1291189 ],\n",
              "       [ 35.79503849, 127.1213748 ],\n",
              "       [ 35.7682949 , 127.1004456 ],\n",
              "       [ 35.76965812, 127.0983678 ],\n",
              "       [ 35.75782266, 127.0867002 ],\n",
              "       [ 35.76251962, 127.0912224 ],\n",
              "       [ 35.79691344, 127.1136028 ],\n",
              "       [ 35.79550804, 127.1242404 ],\n",
              "       [ 35.7963478 , 127.1227008 ],\n",
              "       [ 35.793673  , 127.122344  ],\n",
              "       [ 35.794626  , 127.1229    ],\n",
              "       [ 35.79300175, 127.1196806 ],\n",
              "       [ 35.79408521, 127.1241063 ],\n",
              "       [ 35.79730504, 127.1243852 ]])"
            ]
          },
          "metadata": {},
          "execution_count": 13
        }
      ]
    },
    {
      "cell_type": "code",
      "source": [
        "df_cctv = pd.DataFrame(cctv_points, columns=['위도', '경도'])\n",
        "df_cctv.head()\n",
        "df_cctv.to_csv('/content/drive/MyDrive/전주시 공모전/전주시_시각화_최종_데이터/삼천동_cctv.csv',index = False )"
      ],
      "metadata": {
        "id": "u5y4h3vbQ_YT"
      },
      "execution_count": null,
      "outputs": []
    },
    {
      "cell_type": "code",
      "source": [
        "df2 = pd.read_csv('/content/drive/MyDrive/전주시 공모전/전주시_법정동_최종_데이터/전주시_병원_법정동1.csv',encoding = 'utf-8')\n",
        "df2_hospital = df2[df2['법정동'].str.contains('삼천동1가|삼천동2가|삼천동3가|중인동|용복동')]\n",
        "\n",
        "len(df2_hospital)"
      ],
      "metadata": {
        "colab": {
          "base_uri": "https://localhost:8080/"
        },
        "id": "Xh750x3VHpmY",
        "outputId": "ed919790-8ca5-4a79-e3af-b44398653c52"
      },
      "execution_count": null,
      "outputs": [
        {
          "output_type": "execute_result",
          "data": {
            "text/plain": [
              "6"
            ]
          },
          "metadata": {},
          "execution_count": 15
        }
      ]
    },
    {
      "cell_type": "code",
      "source": [
        "hospital_points = np.array([list(i) for i in zip(df2_hospital['위도'], df2_hospital['경도'])])\n",
        "hospital_points"
      ],
      "metadata": {
        "colab": {
          "base_uri": "https://localhost:8080/"
        },
        "id": "FgjZ_TxjUe2y",
        "outputId": "e7936473-3c32-4c70-eeeb-a36ecc3a9624"
      },
      "execution_count": null,
      "outputs": [
        {
          "output_type": "execute_result",
          "data": {
            "text/plain": [
              "array([[ 35.80087761, 127.1278535 ],\n",
              "       [ 35.79365647, 127.0767305 ],\n",
              "       [ 35.76707707, 127.0887394 ],\n",
              "       [ 35.79847829, 127.1162915 ],\n",
              "       [ 35.80408206, 127.0857351 ],\n",
              "       [ 35.79204365, 127.117843  ]])"
            ]
          },
          "metadata": {},
          "execution_count": 16
        }
      ]
    },
    {
      "cell_type": "code",
      "source": [
        "df3 = pd.read_excel('/content/drive/MyDrive/전주시 공모전/전주시_법정동_최종_데이터/전주시_의원_법정동 최종.xlsx')\n",
        "df3_doc = df3[df3['법정동'].str.contains('삼천동1가|삼천동2가|삼천동3가|중인동|용복동')]\n",
        "\n",
        "len(df3_doc)"
      ],
      "metadata": {
        "colab": {
          "base_uri": "https://localhost:8080/"
        },
        "id": "vBMNPPdAUewa",
        "outputId": "dd500d47-8ab9-42b6-fa71-f4c2c387b064"
      },
      "execution_count": null,
      "outputs": [
        {
          "output_type": "execute_result",
          "data": {
            "text/plain": [
              "45"
            ]
          },
          "metadata": {},
          "execution_count": 17
        }
      ]
    },
    {
      "cell_type": "code",
      "source": [
        "doc_points = np.array([list(i) for i in zip(df3_doc['Latitude'], df3_doc['Longitude'])])\n",
        "doc_points"
      ],
      "metadata": {
        "colab": {
          "base_uri": "https://localhost:8080/"
        },
        "id": "e2QKn_kBUeuS",
        "outputId": "cbb3ad9c-1490-4fee-de95-bcd487adf527"
      },
      "execution_count": null,
      "outputs": [
        {
          "output_type": "execute_result",
          "data": {
            "text/plain": [
              "array([[ 35.7945115, 127.1170709],\n",
              "       [ 35.7988609, 127.1138207],\n",
              "       [ 35.801397 , 127.1284145],\n",
              "       [ 35.799665 , 127.1270782],\n",
              "       [ 35.7929676, 127.122499 ],\n",
              "       [ 35.7989404, 127.1297021],\n",
              "       [ 35.8015644, 127.1245437],\n",
              "       [ 35.7973139, 127.1242877],\n",
              "       [ 35.7983407, 127.1159452],\n",
              "       [ 35.7977441, 127.1246996],\n",
              "       [ 35.7944096, 127.1261278],\n",
              "       [ 35.7952502, 127.105418 ],\n",
              "       [ 35.8008719, 127.1278153],\n",
              "       [ 35.7920631, 127.1196332],\n",
              "       [ 35.7943313, 127.1170708],\n",
              "       [ 35.7921013, 127.1171128],\n",
              "       [ 35.795107 , 127.1170689],\n",
              "       [ 35.7981996, 127.1157246],\n",
              "       [ 35.7967861, 127.1252309],\n",
              "       [ 35.7992703, 127.1293598],\n",
              "       [ 35.7997253, 127.1125997],\n",
              "       [ 35.7944118, 127.1157724],\n",
              "       [ 35.7981386, 127.1286124],\n",
              "       [ 35.7938991, 127.1238725],\n",
              "       [ 35.7988178, 127.1170748],\n",
              "       [ 35.7993942, 127.1292436],\n",
              "       [ 35.7958455, 127.115767 ],\n",
              "       [ 35.7975653, 127.1166515],\n",
              "       [ 35.799665 , 127.1270782],\n",
              "       [ 35.7937458, 127.1170688],\n",
              "       [ 35.8008259, 127.1128392],\n",
              "       [ 35.799664 , 127.1310281],\n",
              "       [ 35.7990351, 127.1296039],\n",
              "       [ 35.794151 , 127.1170706],\n",
              "       [ 35.793972 , 127.1170694],\n",
              "       [ 35.8021296, 127.1169999],\n",
              "       [ 35.7662682, 127.0935148],\n",
              "       [ 35.795633 , 127.0657766],\n",
              "       [ 35.7975653, 127.1166515],\n",
              "       [ 35.7955708, 127.1170695],\n",
              "       [ 35.7960831, 127.1170734],\n",
              "       [ 35.7958455, 127.115767 ],\n",
              "       [ 35.7969274, 127.125039 ],\n",
              "       [ 35.798329 , 127.114585 ],\n",
              "       [ 35.7992703, 127.1293598]])"
            ]
          },
          "metadata": {},
          "execution_count": 18
        }
      ]
    },
    {
      "cell_type": "code",
      "source": [
        "df4 = pd.read_csv('/content/drive/MyDrive/전주시 공모전/전주시_법정동_최종_데이터/전주시_경로당_법정동.csv',encoding = 'utf-8')\n",
        "df4_silvertown = df4[df4['법정동'].str.contains('삼천동1가|삼천동2가|삼천동3가|중인동|용복동')]\n",
        "\n",
        "len(df4_silvertown)"
      ],
      "metadata": {
        "colab": {
          "base_uri": "https://localhost:8080/"
        },
        "id": "UbOUGlI5WDd5",
        "outputId": "481b7770-41ec-47d6-a02c-3a6badd871bb"
      },
      "execution_count": null,
      "outputs": [
        {
          "output_type": "execute_result",
          "data": {
            "text/plain": [
              "51"
            ]
          },
          "metadata": {},
          "execution_count": 19
        }
      ]
    },
    {
      "cell_type": "code",
      "source": [
        "silvertown_points = np.array([list(i) for i in zip(df4_silvertown['위도'], df4_silvertown['경도'])])\n",
        "silvertown_points"
      ],
      "metadata": {
        "colab": {
          "base_uri": "https://localhost:8080/"
        },
        "id": "mq-l_TvvWDbo",
        "outputId": "0704a220-549d-4bf0-e74e-d065703e65cb"
      },
      "execution_count": null,
      "outputs": [
        {
          "output_type": "execute_result",
          "data": {
            "text/plain": [
              "array([[ 35.79876593, 127.1226856 ],\n",
              "       [ 35.80128124, 127.1242059 ],\n",
              "       [ 35.80006988, 127.1226824 ],\n",
              "       [ 35.7982178 , 127.1256384 ],\n",
              "       [ 35.80113331, 127.1305287 ],\n",
              "       [ 35.80185601, 127.1310427 ],\n",
              "       [ 35.80133589, 127.1219729 ],\n",
              "       [ 35.79768781, 127.1243781 ],\n",
              "       [ 35.79995967, 127.1275199 ],\n",
              "       [ 35.79912152, 127.124745  ],\n",
              "       [ 35.79527015, 127.1272377 ],\n",
              "       [ 35.79744025, 127.1290677 ],\n",
              "       [ 35.79789971, 127.1283968 ],\n",
              "       [ 35.79492105, 127.1214444 ],\n",
              "       [ 35.79543303, 127.1283236 ],\n",
              "       [ 35.79628037, 127.1306079 ],\n",
              "       [ 35.79610181, 127.1265832 ],\n",
              "       [ 35.79622852, 127.1279569 ],\n",
              "       [ 35.79174702, 127.1185098 ],\n",
              "       [ 35.79609007, 127.1246256 ],\n",
              "       [ 35.79379706, 127.1172855 ],\n",
              "       [ 35.76526068, 127.0926473 ],\n",
              "       [ 35.7977366 , 127.114272  ],\n",
              "       [ 35.78349338, 127.1016042 ],\n",
              "       [ 35.79339389, 127.1022184 ],\n",
              "       [ 35.7922096 , 127.0877605 ],\n",
              "       [ 35.80061326, 127.1126323 ],\n",
              "       [ 35.79998747, 127.111526  ],\n",
              "       [ 35.7911009 , 127.1158277 ],\n",
              "       [ 35.79394568, 127.1133443 ],\n",
              "       [ 35.7968237 , 127.1153139 ],\n",
              "       [ 35.79536417, 127.1114261 ],\n",
              "       [ 35.80051028, 127.0792852 ],\n",
              "       [ 35.79431038, 127.1152788 ],\n",
              "       [ 35.76457039, 127.0938136 ],\n",
              "       [ 35.79572647, 127.1152545 ],\n",
              "       [ 35.79344236, 127.1151093 ],\n",
              "       [ 35.7967368 , 127.112096  ],\n",
              "       [ 35.78965967, 127.0811948 ],\n",
              "       [ 35.77860473, 127.0935002 ],\n",
              "       [ 35.76951363, 127.082437  ],\n",
              "       [ 35.77982959, 127.0988631 ],\n",
              "       [ 35.75989256, 127.0906055 ],\n",
              "       [ 35.79560347, 127.0812581 ],\n",
              "       [ 35.76690885, 127.091088  ],\n",
              "       [ 35.80674467, 127.0834156 ],\n",
              "       [ 35.78444277, 127.0727791 ],\n",
              "       [ 35.79501786, 127.0876354 ],\n",
              "       [ 35.76707707, 127.0887394 ],\n",
              "       [ 35.76366336, 127.0912364 ],\n",
              "       [ 35.79399212, 127.0772659 ]])"
            ]
          },
          "metadata": {},
          "execution_count": 20
        }
      ]
    },
    {
      "cell_type": "code",
      "source": [
        "df5 = pd.read_excel('/content/drive/MyDrive/전주시 공모전/전주시_법정동_최종_데이터/전주시_노인복지시설_법정동_최종.xlsx')\n",
        "df5_oldhouse = df5[df5['법정동'].str.contains('삼천동1가|삼천동2가|삼천동3가|중인동|용복동')]\n",
        "\n",
        "len(df5_oldhouse)"
      ],
      "metadata": {
        "colab": {
          "base_uri": "https://localhost:8080/"
        },
        "id": "POj_YIdbWDZ3",
        "outputId": "38d34108-120c-4b28-c5f5-d7a8b04128b1"
      },
      "execution_count": null,
      "outputs": [
        {
          "output_type": "execute_result",
          "data": {
            "text/plain": [
              "7"
            ]
          },
          "metadata": {},
          "execution_count": 21
        }
      ]
    },
    {
      "cell_type": "code",
      "source": [
        "oldhouse_points = np.array([list(i) for i in zip(df5_oldhouse['Latitude'], df5_oldhouse['Longitude'])])\n",
        "oldhouse_points"
      ],
      "metadata": {
        "colab": {
          "base_uri": "https://localhost:8080/"
        },
        "id": "W_cYT60tWDXw",
        "outputId": "6657f87f-8e23-45f6-90e6-1309acbbcad4"
      },
      "execution_count": null,
      "outputs": [
        {
          "output_type": "execute_result",
          "data": {
            "text/plain": [
              "array([[ 35.8004791, 127.1294342],\n",
              "       [ 35.7687636, 127.10368  ],\n",
              "       [ 35.8020405, 127.0766949],\n",
              "       [ 35.7939725, 127.0744135],\n",
              "       [ 35.7947312, 127.0788089],\n",
              "       [ 35.8015961, 127.0775037],\n",
              "       [ 35.8005155, 127.1328775]])"
            ]
          },
          "metadata": {},
          "execution_count": 22
        }
      ]
    },
    {
      "cell_type": "code",
      "source": [
        "# 경찰서 없음\n",
        "\n",
        "df6 = pd.read_csv('/content/drive/MyDrive/전주시 공모전/전주시_법정동_최종_데이터/전주시_경찰서_법정동.csv', encoding='utf-8')\n",
        "df6['법정동'] = df6['법정동'].fillna('없음')\n",
        "df6_police = df6[df6['법정동'].str.contains('삼천동1가|삼천동2가|삼천동3가|중인동|용복동')]\n",
        "\n",
        "len(df6_police)"
      ],
      "metadata": {
        "colab": {
          "base_uri": "https://localhost:8080/"
        },
        "id": "6MifQYoLWDVc",
        "outputId": "00f1f848-1f21-40d9-99c7-5c6ebe28e1fa"
      },
      "execution_count": null,
      "outputs": [
        {
          "output_type": "execute_result",
          "data": {
            "text/plain": [
              "1"
            ]
          },
          "metadata": {},
          "execution_count": 23
        }
      ]
    },
    {
      "cell_type": "code",
      "source": [
        "police_points = np.array([list(i) for i in zip(df6_police['Latitude'], df6_police['Longitude'])])\n",
        "police_points"
      ],
      "metadata": {
        "colab": {
          "base_uri": "https://localhost:8080/"
        },
        "id": "nTb3Mw7rWDRV",
        "outputId": "7180d40f-845f-47f0-80c0-b5ff62420970"
      },
      "execution_count": null,
      "outputs": [
        {
          "output_type": "execute_result",
          "data": {
            "text/plain": [
              "array([[ 35.7998392, 127.1212078]])"
            ]
          },
          "metadata": {},
          "execution_count": 24
        }
      ]
    },
    {
      "cell_type": "code",
      "source": [
        "df7 = pd.read_csv('/content/drive/MyDrive/전주시 공모전/전주시_법정동_최종_데이터/전주시_보안등_법정동1.csv',encoding = 'utf8')\n",
        "df7_light = df7[df7['법정동'].str.contains('삼천동1가|삼천동2가|삼천동3가|중인동|용복동')]\n",
        "\n",
        "len(df7_light)"
      ],
      "metadata": {
        "colab": {
          "base_uri": "https://localhost:8080/"
        },
        "id": "m-DhPYHWWDNj",
        "outputId": "bd1ea054-d1c3-418d-9d5e-4eabbdddcace"
      },
      "execution_count": null,
      "outputs": [
        {
          "output_type": "execute_result",
          "data": {
            "text/plain": [
              "30"
            ]
          },
          "metadata": {},
          "execution_count": 25
        }
      ]
    },
    {
      "cell_type": "code",
      "source": [
        "light_points = np.array([list(i) for i in zip(df7_light['posy'], df7_light['posx'])])\n",
        "light_points"
      ],
      "metadata": {
        "colab": {
          "base_uri": "https://localhost:8080/"
        },
        "id": "luaa15aobl8m",
        "outputId": "014991c2-b6a9-40e1-a99a-80e4f48c846f"
      },
      "execution_count": null,
      "outputs": [
        {
          "output_type": "execute_result",
          "data": {
            "text/plain": [
              "array([[ 35.79568521, 127.1142947 ],\n",
              "       [ 35.79231161, 127.1125559 ],\n",
              "       [ 35.79236576, 127.11247854],\n",
              "       [ 35.79235673, 127.11250066],\n",
              "       [ 35.79237016, 127.1125947 ],\n",
              "       [ 35.79234755, 127.11267763],\n",
              "       [ 35.79234769, 127.11252277],\n",
              "       [ 35.79403047, 127.12430642],\n",
              "       [ 35.80039647, 127.12129058],\n",
              "       [ 35.80218063, 127.11937379],\n",
              "       [ 35.77905106, 127.09789355],\n",
              "       [ 35.79403903, 127.09798107],\n",
              "       [ 35.77941622, 127.0919989 ],\n",
              "       [ 35.78296836, 127.10175024],\n",
              "       [ 35.77552862, 127.10413519],\n",
              "       [ 35.77555116, 127.10411863],\n",
              "       [ 35.76460934, 127.09074057],\n",
              "       [ 35.77907546, 127.1063076 ],\n",
              "       [ 35.77726397, 127.10365911],\n",
              "       [ 35.7901342 , 127.0698109 ],\n",
              "       [ 35.77555899, 127.0790491 ],\n",
              "       [ 35.79516847, 127.08536856],\n",
              "       [ 35.79302776, 127.08242375],\n",
              "       [ 35.79164715, 127.07818284],\n",
              "       [ 35.79166068, 127.07817733],\n",
              "       [ 35.78971423, 127.08115377],\n",
              "       [ 35.80393285, 127.08272267],\n",
              "       [ 35.8039554 , 127.08270056],\n",
              "       [ 35.7938447 , 127.0780521 ],\n",
              "       [ 35.7937657 , 127.0786811 ]])"
            ]
          },
          "metadata": {},
          "execution_count": 26
        }
      ]
    },
    {
      "cell_type": "code",
      "source": [
        "X = list(list(df2_hospital['위도']) + list(df3_doc['Latitude']) + list(df4_silvertown['위도']) + list(df5_oldhouse['Latitude']) + list(df6_police['Latitude']) + list(df7_light['posy']))"
      ],
      "metadata": {
        "id": "J3hV242Ubl6t"
      },
      "execution_count": null,
      "outputs": []
    },
    {
      "cell_type": "code",
      "source": [
        "Y = list(list(df2_hospital['경도']) + list(df3_doc['Longitude']) + list(df4_silvertown['경도']) + list(df5_oldhouse['Longitude']) + list(df6_police['Longitude']) + list(df7_light['posx']))"
      ],
      "metadata": {
        "id": "cIJdEUUGbl1G"
      },
      "execution_count": null,
      "outputs": []
    },
    {
      "cell_type": "code",
      "source": [
        "points = np.array([list(i) for i in zip(X, Y)])\n",
        "print(points.shape)\n",
        "points[:2]"
      ],
      "metadata": {
        "colab": {
          "base_uri": "https://localhost:8080/"
        },
        "id": "rAEhvXrCHY32",
        "outputId": "e548dbc4-264b-4987-83eb-7dca905aadb8"
      },
      "execution_count": null,
      "outputs": [
        {
          "output_type": "stream",
          "name": "stdout",
          "text": [
            "(140, 2)\n"
          ]
        },
        {
          "output_type": "execute_result",
          "data": {
            "text/plain": [
              "array([[ 35.80087761, 127.1278535 ],\n",
              "       [ 35.79365647, 127.0767305 ]])"
            ]
          },
          "metadata": {},
          "execution_count": 29
        }
      ]
    },
    {
      "cell_type": "code",
      "source": [
        "df_fa = pd.DataFrame(points, columns=['위도', '경도'])\n",
        "df_fa.head()\n",
        "df_fa.to_csv('/content/drive/MyDrive/전주시 공모전/전주시_시각화_최종_데이터/삼천동_수요시설.csv',index = False )"
      ],
      "metadata": {
        "id": "25rkw1f1QENT"
      },
      "execution_count": null,
      "outputs": []
    },
    {
      "cell_type": "code",
      "source": [
        "#전체w = points.shape[0]\n",
        "전체w= cctv_points.shape[0]\n",
        "cctvw = df1_cctv.shape[0]\n",
        "hospitalw = df2_hospital.shape[0]\n",
        "docw = df3_doc.shape[0]\n",
        "silvertownw = df4_silvertown.shape[0]\n",
        "oldhousew = df5_oldhouse.shape[0]\n",
        "policew = df6_police.shape[0]\n",
        "lightw = df7_light.shape[0]\n",
        "\n",
        "#m1 = 0.278 * (전체w-cctvw) / 전체w #0.278 무슨 값?\n",
        "# m2 = 0.059 * (전체w-hospitalw) / 전체w\n",
        "# m3 = 0.135 * (전체w-docw) / 전체w\n",
        "# m4 = 0.164 * (전체w-silvertownw) / 전체w\n",
        "# m5 = 0.136 * (전체w-oldhousew) / 전체w\n",
        "# m6 = 0.074 * (전체w-policew) / 전체w\n",
        "# m7 = 0.097 * (전체w-lightw) / 전체w"
      ],
      "metadata": {
        "id": "L39R2JQwzYwa"
      },
      "execution_count": null,
      "outputs": []
    },
    {
      "cell_type": "code",
      "source": [
        "def mclp(cctv, hospital_points, doc_points, silvertown_points,\n",
        "         oldhouse_points, police_points, light_poinst, points, K, radius):\n",
        "    \"\"\"\n",
        "    Solve maximum covering location problem\n",
        "    Input:\n",
        "        points: 수요지점 좌표 (CCTV가 있으면 좋은 지표들의 위치)\n",
        "        K: 배치할 CCTV의 수\n",
        "        radius: 반경 (CCTV의 적합한 반경)\n",
        "    Return:\n",
        "        opt_sites: locations K optimal sites, Numpy array in shape of [K,2]\n",
        "        f: the optimal value of the objective function\n",
        "    \"\"\"\n",
        "    print('  Number of points %g' % points.shape[0]) #여기서 point 가 의미하는 것?? 추가 수요지점?(아니면 총합?)\n",
        "    print('  K %g' % K)\n",
        "    print('  Radius %g' % radius)\n",
        "\n",
        "    start = time.time()\n",
        "    sites = np.array([list(i) for i in zip(cctv['WGS84위도'], cctv['WGS84경도'])])\n",
        "    J = sites.shape[0]\n",
        "\n",
        "    # 수요지점 수\n",
        "    #A = cctv_points.shape[0]\n",
        "    B = hospital_points.shape[0]\n",
        "    C = doc_points.shape[0]\n",
        "    D = silvertown_points.shape[0]\n",
        "    E = oldhouse_points.shape[0]\n",
        "    F = police_points.shape[0]\n",
        "    G = light_points.shape[0]\n",
        "\n",
        "    # 입지후보지와 수요지점 간 거리 계산 (haversine으로 수정)\n",
        "    #D1 = []\n",
        "    #for i in cctv_points:\n",
        "    #    site = []\n",
        "    #    for j in sites:\n",
        "    #        site.append(haversine(i, j)*1000)     # 단위를 m로 변경하기 위해 *1000\n",
        "    #    D1.append(site)\n",
        "    #D1 = np.array(D1)\n",
        "\n",
        "    D2 = []\n",
        "    for i in hospital_points:\n",
        "        site = []\n",
        "        for j in sites:\n",
        "            site.append(haversine(i, j)*1000)\n",
        "        D2.append(site)\n",
        "    D2 = np.array(D2)\n",
        "\n",
        "    D3 = []\n",
        "    for i in doc_points:\n",
        "        site = []\n",
        "        for j in sites:\n",
        "            site.append(haversine(i, j)*1000)\n",
        "        D3.append(site)\n",
        "    D3 = np.array(D3)\n",
        "\n",
        "    D4 = []\n",
        "    for i in silvertown_points:\n",
        "        site = []\n",
        "        for j in sites:\n",
        "            site.append(haversine(i, j)*1000)\n",
        "        D4.append(site)\n",
        "    D4 = np.array(D4)\n",
        "\n",
        "    D5 = []\n",
        "    for i in oldhouse_points:\n",
        "        site = []\n",
        "        for j in sites:\n",
        "            site.append(haversine(i, j)*1000)\n",
        "        D5.append(site)\n",
        "    D5 = np.array(D5)\n",
        "\n",
        "    D6 = []\n",
        "    for i in police_points:\n",
        "        site = []\n",
        "        for j in sites:\n",
        "            site.append(haversine(i, j)*1000)\n",
        "        D6.append(site)\n",
        "    D6 = np.array(D6)\n",
        "\n",
        "    D7 = []\n",
        "    for i in light_points:\n",
        "        site = []\n",
        "        for j in sites:\n",
        "            site.append(haversine(i, j)*1000)\n",
        "        D7.append(site)\n",
        "    D7 = np.array(D7)\n",
        "\n",
        "    for i in [D2, D3, D4, D5, D6, D7]:\n",
        "        mask1 = i<=radius\n",
        "        i[mask1]=1\n",
        "        i[~mask1]=0\n",
        "\n",
        "    m = Model()\n",
        "    x2, x3, x4, x5, x6, x7 = {}, {}, {}, {}, {}, {}\n",
        "    y = {}\n",
        "\n",
        "    # 수요지점 변수 추가\n",
        "    #for i in range(A):\n",
        "    #    x1[i] = m.addVar(vtype=GRB.BINARY, name=\"x1%d\" % i)\n",
        "    for i in range(B):\n",
        "        x2[i] = m.addVar(vtype=GRB.BINARY, name=\"x2%d\" % i)\n",
        "    for i in range(C):\n",
        "        x3[i] = m.addVar(vtype=GRB.BINARY, name=\"x3%d\" % i)\n",
        "    for i in range(D):\n",
        "        x4[i] = m.addVar(vtype=GRB.BINARY, name=\"x4%d\" % i)\n",
        "    for i in range(E):\n",
        "        x5[i] = m.addVar(vtype=GRB.BINARY, name=\"x5%d\" % i)\n",
        "    for i in range(F):\n",
        "        x6[i] = m.addVar(vtype=GRB.BINARY, name=\"x6%d\" % i)\n",
        "    for i in range(G):\n",
        "        x7[i] = m.addVar(vtype=GRB.BINARY, name=\"x7%d\" % i)\n",
        "\n",
        "    # 입지후보지 변수 추가\n",
        "    for j in range(J):\n",
        "        y[j] = m.addVar(vtype=GRB.BINARY, name=\"y%d\" % j)\n",
        "\n",
        "    m.update()\n",
        "    m.addConstr(quicksum(y[j] for j in range(J)) == K)\n",
        "\n",
        "    # 수요지점 제약 조건\n",
        "    #for i in range(A):\n",
        "    #    m.addConstr(quicksum(y[j] for j in np.where(D1[i]==1)[0]) >= x1[i])\n",
        "    for i in range(B):\n",
        "        m.addConstr(quicksum(y[j] for j in np.where(D2[i]==1)[0]) >= x2[i])\n",
        "    for i in range(C):\n",
        "        m.addConstr(quicksum(y[j] for j in np.where(D3[i]==1)[0]) >= x3[i])\n",
        "    for i in range(D):\n",
        "        m.addConstr(quicksum(y[j] for j in np.where(D4[i]==1)[0]) >= x4[i])\n",
        "    for i in range(E):\n",
        "        m.addConstr(quicksum(y[j] for j in np.where(D5[i]==1)[0]) >= x5[i])\n",
        "    for i in range(F):\n",
        "        m.addConstr(quicksum(y[j] for j in np.where(D6[i]==1)[0]) >= x6[i])\n",
        "    for i in range(G):\n",
        "        m.addConstr(quicksum(y[j] for j in np.where(D7[i]==1)[0]) >= x7[i])\n",
        "\n",
        "    # 목적함수 수정\n",
        "    #m.setObjective(quicksum(i for i in [1*x1[a] for a in range(A)] + [1*x2[b] for b in range(B)] + [1*x3[c] for c in range(C)] + [1*x4[d] for d in range(D)] + [1*x4[e] for e in range(E)]\n",
        "    #                        + [1*x4[f] for f in range(F)] + [1*x4[g] for g in range(G)]),\\\n",
        "    #               GRB.MAXIMIZE)     # 1 대신 가중치 입력\n",
        "    m.setObjective(quicksum(i for i in [0.0591*x2[b] for b in range(B)] + [0.1353*x3[c] for c in range(C)] + [0.1636*x4[d] for d in range(D)] + [0.1362*x5[e] for e in range(E)]\n",
        "                            + [0.0737*x6[f] for f in range(F)] + [0.0973*x7[g] for g in range(G)]),\\\n",
        "                   GRB.MAXIMIZE)     # 1 대신 가중치 입력\n",
        "\n",
        "    m.setParam('OutputFlag', 0)\n",
        "    m.optimize()\n",
        "    end = time.time()\n",
        "    print('----- Output -----')\n",
        "    print('  Running time : %s seconds' % float(end-start))\n",
        "    print('  Optimal coverage points: %g' % m.objVal)\n",
        "\n",
        "    solution = []\n",
        "    if m.status == GRB.Status.OPTIMAL:\n",
        "        for v in m.getVars():\n",
        "            if v.x==1 and v.varName[0]==\"y\":\n",
        "                solution.append(int(v.varName[1:]))\n",
        "    opt_sites = sites[solution]\n",
        "    return opt_sites,m.objVal"
      ],
      "metadata": {
        "id": "63CQGcqwISdL"
      },
      "execution_count": null,
      "outputs": []
    },
    {
      "cell_type": "code",
      "source": [
        "def plot_input(points):\n",
        "    '''\n",
        "    Plot the result\n",
        "    Input:\n",
        "        points: input points, Numpy array in shape of [N,2]\n",
        "        opt_sites: locations K optimal sites, Numpy array in shape of [K,2]\n",
        "        radius: the radius of circle\n",
        "    '''\n",
        "    from matplotlib import pyplot as plt\n",
        "    fig = plt.figure(figsize=(8,8))\n",
        "    plt.scatter(points[:,0],points[:,1],c='C0')\n",
        "    ax = plt.gca()\n",
        "    ax.axis('equal')\n",
        "    ax.tick_params(axis='both',left=False, top=False, right=False,\n",
        "                       bottom=False, labelleft=False, labeltop=False,\n",
        "                       labelright=False, labelbottom=False)"
      ],
      "metadata": {
        "id": "eym3sdqadQ-S"
      },
      "execution_count": null,
      "outputs": []
    },
    {
      "cell_type": "code",
      "source": [
        "def plot_result(points,opt_sites,radius):\n",
        "    '''\n",
        "    Plot the result\n",
        "    Input:\n",
        "        points: input points, Numpy array in shape of [N,2]\n",
        "        opt_sites: locations K optimal sites, Numpy array in shape of [K,2]\n",
        "        radius: the radius of circle\n",
        "    '''\n",
        "    from matplotlib import pyplot as plt\n",
        "    fig = plt.figure(figsize=(8,8))\n",
        "    plt.scatter(points[:,0],points[:,1],c='C0')\n",
        "    ax = plt.gca()\n",
        "    plt.scatter(opt_sites[:,0],opt_sites[:,1],c='C1',marker='+')\n",
        "    for site in opt_sites:\n",
        "        circle = plt.Circle(site, radius, color='C1',fill=False,lw=2)\n",
        "        ax.add_artist(circle)\n",
        "    ax.axis('equal')\n",
        "    ax.tick_params(axis='both',left=False, top=False, right=False,\n",
        "                       bottom=False, labelleft=False, labeltop=False,\n",
        "                       labelright=False, labelbottom=False)"
      ],
      "metadata": {
        "id": "bFhGSjfvsT4g"
      },
      "execution_count": null,
      "outputs": []
    },
    {
      "cell_type": "code",
      "source": [
        "# K=3, raidus=300m\n",
        "opts_sites, mobjVal = mclp(df1_cctv, hospital_points, doc_points, silvertown_points,\n",
        "                           oldhouse_points, police_points, light_points, points, 3, 300)\n",
        "opts_sites\n",
        "\n",
        "plot_result(points, opts_sites, 0.0027)"
      ],
      "metadata": {
        "colab": {
          "base_uri": "https://localhost:8080/",
          "height": 784
        },
        "id": "vzdDrw3AwoLR",
        "outputId": "757057ed-536a-47ed-c7d9-90ee756ea4ac"
      },
      "execution_count": null,
      "outputs": [
        {
          "output_type": "stream",
          "name": "stdout",
          "text": [
            "  Number of points 140\n",
            "  K 3\n",
            "  Radius 300\n",
            "Restricted license - for non-production use only - expires 2025-11-24\n",
            "----- Output -----\n",
            "  Running time : 0.7648715972900391 seconds\n",
            "  Optimal coverage points: 7.408\n"
          ]
        },
        {
          "output_type": "display_data",
          "data": {
            "text/plain": [
              "<Figure size 800x800 with 1 Axes>"
            ],
            "image/png": "[encoded data removed]"
          },
          "metadata": {}
        }
      ]
    },
    {
      "cell_type": "code",
      "source": [
        "# K=9, raidus=300m (천안시 참고)\n",
        "opts_sites, mobjVal = mclp(df1_cctv, hospital_points, doc_points, silvertown_points,\n",
        "                           oldhouse_points, police_points, light_points, points, 9, 300)\n",
        "opts_sites\n",
        "\n",
        "plot_result(points, opts_sites, 0.0027)"
      ],
      "metadata": {
        "colab": {
          "base_uri": "https://localhost:8080/",
          "height": 765
        },
        "id": "1PHDWuDgYTa7",
        "outputId": "af2d780b-4868-4a00-9b77-0d0ee060ab92"
      },
      "execution_count": null,
      "outputs": [
        {
          "output_type": "stream",
          "name": "stdout",
          "text": [
            "  Number of points 140\n",
            "  K 9\n",
            "  Radius 300\n",
            "----- Output -----\n",
            "  Running time : 0.08366227149963379 seconds\n",
            "  Optimal coverage points: 12.8625\n"
          ]
        },
        {
          "output_type": "display_data",
          "data": {
            "text/plain": [
              "<Figure size 800x800 with 1 Axes>"
            ],
            "image/png": "[encoded data removed]"
          },
          "metadata": {}
        }
      ]
    },
    {
      "cell_type": "code",
      "source": [
        "# K=10, raidus=500m (노인 걸음 참고)\n",
        "opts_sites, mobjVal = mclp(df1_cctv, hospital_points, doc_points, silvertown_points,\n",
        "                           oldhouse_points, police_points, light_points, points, 10, 500)\n",
        "opts_sites\n",
        "\n",
        "plot_result(points, opts_sites, 0.0027)"
      ],
      "metadata": {
        "colab": {
          "base_uri": "https://localhost:8080/",
          "height": 765
        },
        "id": "lkMy2rsXZDFz",
        "outputId": "ec8b532f-b5b0-4689-bf9d-f7c33e614230"
      },
      "execution_count": null,
      "outputs": [
        {
          "output_type": "stream",
          "name": "stdout",
          "text": [
            "  Number of points 140\n",
            "  K 10\n",
            "  Radius 500\n",
            "----- Output -----\n",
            "  Running time : 0.12239289283752441 seconds\n",
            "  Optimal coverage points: 16.1752\n"
          ]
        },
        {
          "output_type": "display_data",
          "data": {
            "text/plain": [
              "<Figure size 800x800 with 1 Axes>"
            ],
            "image/png": "[encoded data removed]"
          },
          "metadata": {}
        }
      ]
    },
    {
      "cell_type": "code",
      "source": [
        "opts_sites"
      ],
      "metadata": {
        "colab": {
          "base_uri": "https://localhost:8080/"
        },
        "id": "rhe7c4AIRlHO",
        "outputId": "f4268fb4-3c86-4a66-e865-701e3994b68f"
      },
      "execution_count": null,
      "outputs": [
        {
          "output_type": "execute_result",
          "data": {
            "text/plain": [
              "array([[ 35.774881  , 127.0958734 ],\n",
              "       [ 35.8000853 , 127.1322227 ],\n",
              "       [ 35.79791418, 127.1162367 ],\n",
              "       [ 35.79298434, 127.104789  ],\n",
              "       [ 35.796362  , 127.088843  ],\n",
              "       [ 35.77969881, 127.101565  ],\n",
              "       [ 35.79724721, 127.1238464 ],\n",
              "       [ 35.76514096, 127.0929286 ],\n",
              "       [ 35.79227508, 127.1145576 ],\n",
              "       [ 35.79410261, 127.0778006 ]])"
            ]
          },
          "metadata": {},
          "execution_count": 38
        }
      ]
    },
    {
      "cell_type": "code",
      "source": [
        "# K=5, raidus=640m (노인 1분 평균 보행 속도 64m -> 10분)\n",
        "opts_sites, mobjVal = mclp(df1_cctv, hospital_points, doc_points, silvertown_points,\n",
        "                           oldhouse_points, police_points, light_points, points, 5, 640)\n",
        "opts_sites\n",
        "\n",
        "plot_result(points, opts_sites, 0.0027)"
      ],
      "metadata": {
        "colab": {
          "base_uri": "https://localhost:8080/",
          "height": 765
        },
        "id": "HrxKj0nLamxv",
        "outputId": "7bfcc9a8-79aa-48af-d458-d5f64c25206f"
      },
      "execution_count": null,
      "outputs": [
        {
          "output_type": "stream",
          "name": "stdout",
          "text": [
            "  Number of points 140\n",
            "  K 5\n",
            "  Radius 640\n",
            "----- Output -----\n",
            "  Running time : 0.12180685997009277 seconds\n",
            "  Optimal coverage points: 15.2016\n"
          ]
        },
        {
          "output_type": "display_data",
          "data": {
            "text/plain": [
              "<Figure size 800x800 with 1 Axes>"
            ],
            "image/png": "[encoded data removed]"
          },
          "metadata": {}
        }
      ]
    },
    {
      "cell_type": "code",
      "source": [],
      "metadata": {
        "id": "Wl_Gga_gKb8A"
      },
      "execution_count": null,
      "outputs": []
    },
    {
      "cell_type": "markdown",
      "source": [
        "## 송천동"
      ],
      "metadata": {
        "id": "hZIcnJ6QxS50"
      }
    },
    {
      "cell_type": "code",
      "source": [
        "place = pd.read_csv('/content/drive/MyDrive/전주시 공모전/전주시_법정동_최종_데이터/전주시_주택_법정동.csv', encoding='utf-8')\n",
        "place = place[place['법정동'].str.contains('전미동1가|전미동2가|송천동1가|송천동2가')]"
      ],
      "metadata": {
        "id": "nwNOmWc4dE3d"
      },
      "execution_count": null,
      "outputs": []
    },
    {
      "cell_type": "code",
      "source": [
        "df1 = pd.read_csv('/content/drive/MyDrive/전주시 공모전/전주시_법정동_최종_데이터/전주시_CCTV_법정동.csv',encoding = 'utf-8')\n",
        "df1_cctv = df1[df1['법정동'].str.contains('전미동1가|전미동2가|송천동1가|송천동2가')]\n",
        "cctv_points = np.array([list(i) for i in zip(df1_cctv['WGS84위도'], df1_cctv['WGS84경도'])])\n",
        "\n",
        "df2 = pd.read_csv('/content/drive/MyDrive/전주시 공모전/전주시_법정동_최종_데이터/전주시_병원_법정동1.csv',encoding = 'utf-8')\n",
        "df2_hospital = df2[df2['행정동'].str.contains('전미동1가|전미동2가|송천동1가|송천동2가')]\n",
        "hospital_points = np.array([list(i) for i in zip(df2_hospital['위도'], df2_hospital['경도'])])\n",
        "\n",
        "df3 = pd.read_excel('/content/drive/MyDrive/전주시 공모전/전주시_법정동_최종_데이터/전주시_의원_법정동 최종.xlsx')\n",
        "df3_doc = df3[df3['행정동'].str.contains('전미동1가|전미동2가|송천동1가|송천동2가')]\n",
        "doc_points = np.array([list(i) for i in zip(df3_doc['Latitude'], df3_doc['Longitude'])])\n",
        "\n",
        "df4 = pd.read_csv('/content/drive/MyDrive/전주시 공모전/전주시_법정동_최종_데이터/전주시_경로당_법정동.csv',encoding = 'utf-8')\n",
        "df4_silvertown = df4[df4['행정동'].str.contains('전미동1가|전미동2가|송천동1가|송천동2가')]\n",
        "silvertown_points = np.array([list(i) for i in zip(df4_silvertown['위도'], df4_silvertown['경도'])])\n",
        "\n",
        "df5 = pd.read_excel('/content/drive/MyDrive/전주시 공모전/전주시_법정동_최종_데이터/전주시_노인복지시설_법정동_최종.xlsx')\n",
        "df5_oldhouse = df5[df5['법정동'].str.contains('전미동1가|전미동2가|송천동1가|송천동2가')]\n",
        "oldhouse_points = np.array([list(i) for i in zip(df5_oldhouse['Latitude'], df5_oldhouse['Longitude'])])\n",
        "\n",
        "df6 = pd.read_csv('/content/drive/MyDrive/전주시 공모전/전주시_법정동_최종_데이터/전주시_경찰서_법정동.csv', encoding='utf-8')\n",
        "df6['법정동'] = df6['법정동'].fillna('없음')\n",
        "df6_police = df6[df6['법정동'].str.contains('전미동1가|전미동2가|송천동1가|송천동2가')]\n",
        "police_points = np.array([list(i) for i in zip(df6_police['Latitude'], df6_police['Longitude'])])\n",
        "\n",
        "df7 = pd.read_csv('/content/drive/MyDrive/전주시 공모전/전주시_법정동_최종_데이터/전주시_보안등_법정동1.csv',encoding = 'utf8')\n",
        "df7_light = df7[df7['법정동'].str.contains('전미동1가|전미동2가|송천동1가|송천동2가')]\n",
        "light_points = np.array([list(i) for i in zip(df7_light['posy'], df7_light['posx'])])\n"
      ],
      "metadata": {
        "id": "fONY8VCbxUmu"
      },
      "execution_count": null,
      "outputs": []
    },
    {
      "cell_type": "code",
      "source": [
        "X = list(list(df2_hospital['위도']) + list(df3_doc['Latitude']) + list(df4_silvertown['위도']) + list(df5_oldhouse['Latitude']) + list(df6_police['Latitude']) + list(df7_light['posy']))\n",
        "Y = list(list(df2_hospital['경도']) + list(df3_doc['Longitude']) + list(df4_silvertown['경도']) + list(df5_oldhouse['Longitude']) + list(df6_police['Longitude']) + list(df7_light['posx']))\n",
        "points = np.array([list(i) for i in zip(X, Y)])\n",
        "print(points.shape)\n",
        "points[:2]"
      ],
      "metadata": {
        "colab": {
          "base_uri": "https://localhost:8080/"
        },
        "id": "CjD4YFpGyzMd",
        "outputId": "0c24557e-b67a-4f84-fb0d-f114238ebcf0"
      },
      "execution_count": null,
      "outputs": [
        {
          "output_type": "stream",
          "name": "stdout",
          "text": [
            "(23, 2)\n"
          ]
        },
        {
          "output_type": "execute_result",
          "data": {
            "text/plain": [
              "array([[ 35.8644319 , 127.1349054 ],\n",
              "       [ 35.85874428, 127.1235384 ]])"
            ]
          },
          "metadata": {},
          "execution_count": 58
        }
      ]
    },
    {
      "cell_type": "code",
      "source": [
        "전체w = cctv_points.shape[0]\n",
        "#cctvw = df1_cctv.shape[0]\n",
        "hospitalw = df2_hospital.shape[0]\n",
        "docw = df3_doc.shape[0]\n",
        "silvertownw = df4_silvertown.shape[0]\n",
        "oldhousew = df5_oldhouse.shape[0]\n",
        "policew = df6_police.shape[0]\n",
        "lightw = df7_light.shape[0]\n",
        "\n",
        "#m1 = 0.278 * (전체w-cctvw) / 전체w\n",
        "m2 = 0.193 * (전체w-hospitalw) / 전체w\n",
        "m3 = 0.136 * (전체w-docw) / 전체w\n",
        "m4 = 0.392 * (전체w-silvertownw) / 전체w\n",
        "m5 = 0.193 * (전체w-oldhousew) / 전체w\n",
        "m6 = 0.136 * (전체w-policew) / 전체w\n",
        "m7 = 0.392 * (전체w-lightw) / 전체w"
      ],
      "metadata": {
        "id": "LBe8R_88zNvf"
      },
      "execution_count": null,
      "outputs": []
    },
    {
      "cell_type": "code",
      "source": [
        "# K=3, radius=300\n",
        "opts_sites, mobjVal = mclp(df1_cctv, hospital_points, doc_points, silvertown_points,\n",
        "                           oldhouse_points, police_points, light_points, points, 3, 300)\n",
        "opts_sites"
      ],
      "metadata": {
        "id": "jpLVJYxDcEmp"
      },
      "execution_count": null,
      "outputs": []
    },
    {
      "cell_type": "code",
      "source": [
        "plot_result(points, opts_sites, 0.0027)"
      ],
      "metadata": {
        "id": "UWp9xXLKtj7k"
      },
      "execution_count": null,
      "outputs": []
    },
    {
      "cell_type": "code",
      "source": [
        "# K=4, raidus=300m (천안시 참고)\n",
        "opts_sites, mobjVal = mclp(df1_cctv, hospital_points, doc_points, silvertown_points,\n",
        "                           oldhouse_points, police_points, light_points, points, 4, 300)\n",
        "opts_sites"
      ],
      "metadata": {
        "id": "mPTDpnvUYipp"
      },
      "execution_count": null,
      "outputs": []
    },
    {
      "cell_type": "code",
      "source": [
        "plot_result(points, opts_sites, 0.0027)"
      ],
      "metadata": {
        "id": "X53WkEEdYpIq"
      },
      "execution_count": null,
      "outputs": []
    },
    {
      "cell_type": "code",
      "source": [
        "# K=2, raidus=500m (노인 걸음 참고)\n",
        "opts_sites, mobjVal = mclp(df1_cctv, hospital_points, doc_points, silvertown_points,\n",
        "                           oldhouse_points, police_points, light_points, points, 2, 500)\n",
        "opts_sites"
      ],
      "metadata": {
        "colab": {
          "base_uri": "https://localhost:8080/"
        },
        "id": "iys_u8R2Y_c7",
        "outputId": "eb24147e-10b4-41f5-dc10-62218438218c"
      },
      "execution_count": null,
      "outputs": [
        {
          "output_type": "stream",
          "name": "stdout",
          "text": [
            "  Number of points 23\n",
            "  K 2\n",
            "  Radius 500\n",
            "----- Output -----\n",
            "  Running time : 0.01627349853515625 seconds\n",
            "  Optimal coverage points: 1.0231\n"
          ]
        },
        {
          "output_type": "execute_result",
          "data": {
            "text/plain": [
              "array([[ 35.86494874, 127.1191499 ],\n",
              "       [ 35.85680487, 127.1194768 ]])"
            ]
          },
          "metadata": {},
          "execution_count": 60
        }
      ]
    },
    {
      "cell_type": "code",
      "source": [
        "coords_list = [\n",
        "    [ 35.86494874, 127.1191499 ],\n",
        "       [ 35.85680487, 127.1194768 ]\n",
        "    ]\n",
        "cctv = df1\n",
        "# 빈 데이터프레임 생성\n",
        "result = pd.DataFrame()\n",
        "\n",
        "# 각 좌표에 대해 필터링 수행\n",
        "for coords in coords_list:\n",
        "    위도, 경도 = coords\n",
        "    temp_result = cctv[(cctv['WGS84위도'] == 위도) & (cctv['WGS84경도'] == 경도)]\n",
        "    result = pd.concat([result, temp_result])\n",
        "\n",
        "result['소재지지번주소']"
      ],
      "metadata": {
        "colab": {
          "base_uri": "https://localhost:8080/"
        },
        "id": "FOwSlhOGhZS4",
        "outputId": "36af3ef8-b62d-41ae-8ef6-8f19261b8df5"
      },
      "execution_count": null,
      "outputs": [
        {
          "output_type": "execute_result",
          "data": {
            "text/plain": [
              "101    전북특별자치도 전주시 덕진구 송천동1가 816-1\n",
              "184      전북특별자치도 전주시 덕진구 송천동1가 397\n",
              "Name: 소재지지번주소, dtype: object"
            ]
          },
          "metadata": {},
          "execution_count": 62
        }
      ]
    },
    {
      "cell_type": "code",
      "source": [
        "plot_result(points, opts_sites, 0.0027)"
      ],
      "metadata": {
        "colab": {
          "base_uri": "https://localhost:8080/",
          "height": 653
        },
        "id": "uC0zfg0AY_-F",
        "outputId": "3c8a4ee2-b5d5-4b4c-b42e-1072309953c7"
      },
      "execution_count": null,
      "outputs": [
        {
          "output_type": "display_data",
          "data": {
            "text/plain": [
              "<Figure size 800x800 with 1 Axes>"
            ],
            "image/png": "[encoded data removed]"
          },
          "metadata": {}
        }
      ]
    },
    {
      "cell_type": "code",
      "source": [
        "# K=4, raidus=640m (노인 1분 평균 보행 속도 64m -> 10분)\n",
        "opts_sites, mobjVal = mclp(df1_cctv, hospital_points, doc_points, silvertown_points,\n",
        "                           oldhouse_points, police_points, light_points, points, 4, 640)\n",
        "opts_sites"
      ],
      "metadata": {
        "id": "l4GjKbpwazsl"
      },
      "execution_count": null,
      "outputs": []
    },
    {
      "cell_type": "code",
      "source": [
        "plot_result(points, opts_sites, 0.0027)"
      ],
      "metadata": {
        "id": "fHMBae2va0Ti"
      },
      "execution_count": null,
      "outputs": []
    },
    {
      "cell_type": "markdown",
      "source": [
        "## 평화동"
      ],
      "metadata": {
        "id": "evpRNpc7cI1w"
      }
    },
    {
      "cell_type": "code",
      "source": [
        "place = pd.read_csv('/content/drive/MyDrive/전주시 공모전/전주시_법정동_최종_데이터/전주시_주택_법정동.csv', encoding='utf-8')\n",
        "place = place[place['법정동'].str.contains('석구동|원당동|평화동1가|평화동2가|평화동3가')]"
      ],
      "metadata": {
        "id": "hwNxordbdKkc"
      },
      "execution_count": null,
      "outputs": []
    },
    {
      "cell_type": "code",
      "source": [
        "pattern = '석구동|원당동|평화동1가|평화동2가|평화동3가'"
      ],
      "metadata": {
        "id": "Yy21OH-2n3X9"
      },
      "execution_count": null,
      "outputs": []
    },
    {
      "cell_type": "code",
      "source": [
        "df1 = pd.read_csv('/content/drive/MyDrive/전주시 공모전/전주시_법정동_최종_데이터/전주시_CCTV_법정동.csv',encoding = 'utf-8')\n",
        "df1_cctv = df1[df1['법정동'].str.contains(pattern)]\n",
        "cctv_points = np.array([list(i) for i in zip(df1_cctv['WGS84위도'], df1_cctv['WGS84경도'])])\n",
        "\n",
        "df2 = pd.read_csv('/content/drive/MyDrive/전주시 공모전/전주시_법정동_최종_데이터/전주시_병원_법정동1.csv',encoding = 'utf-8')\n",
        "df2_hospital = df2[df2['행정동'].str.contains(pattern)]\n",
        "hospital_points = np.array([list(i) for i in zip(df2_hospital['위도'], df2_hospital['경도'])])\n",
        "\n",
        "df3 = pd.read_excel('/content/drive/MyDrive/전주시 공모전/전주시_법정동_최종_데이터/전주시_의원_법정동 최종.xlsx')\n",
        "df3_doc = df3[df3['행정동'].str.contains(pattern)]\n",
        "doc_points = np.array([list(i) for i in zip(df3_doc['Latitude'], df3_doc['Longitude'])])\n",
        "\n",
        "df4 = pd.read_csv('/content/drive/MyDrive/전주시 공모전/전주시_법정동_최종_데이터/전주시_경로당_법정동.csv',encoding = 'utf-8')\n",
        "df4_silvertown = df4[df4['행정동'].str.contains(pattern)]\n",
        "silvertown_points = np.array([list(i) for i in zip(df4_silvertown['위도'], df4_silvertown['경도'])])\n",
        "\n",
        "df5 = pd.read_excel('/content/drive/MyDrive/전주시 공모전/전주시_법정동_최종_데이터/전주시_노인복지시설_법정동_최종.xlsx')\n",
        "df5_oldhouse = df5[df5['법정동'].str.contains(pattern)]\n",
        "oldhouse_points = np.array([list(i) for i in zip(df5_oldhouse['Latitude'], df5_oldhouse['Longitude'])])\n",
        "\n",
        "df6 = pd.read_csv('/content/drive/MyDrive/전주시 공모전/전주시_법정동_최종_데이터/전주시_경찰서_법정동.csv', encoding='utf-8')\n",
        "df6['법정동'] = df6['법정동'].fillna('없음')\n",
        "df6_police = df6[df6['법정동'].str.contains(pattern)]\n",
        "police_points = np.array([list(i) for i in zip(df6_police['Latitude'], df6_police['Longitude'])])\n",
        "\n",
        "df7 = pd.read_csv('/content/drive/MyDrive/전주시 공모전/전주시_법정동_최종_데이터/전주시_보안등_법정동1.csv',encoding = 'utf8')\n",
        "df7_light = df7[df7['법정동'].str.contains(pattern)]\n",
        "light_points = np.array([list(i) for i in zip(df7_light['posy'], df7_light['posx'])])\n"
      ],
      "metadata": {
        "id": "o_o0ubSRcMim"
      },
      "execution_count": null,
      "outputs": []
    },
    {
      "cell_type": "code",
      "source": [
        "X = list(list(df2_hospital['위도']) + list(df3_doc['Latitude']) + list(df4_silvertown['위도']) + list(df5_oldhouse['Latitude']) + list(df6_police['Latitude']) + list(df7_light['posy']))\n",
        "Y = list(list(df2_hospital['경도']) + list(df3_doc['Longitude']) + list(df4_silvertown['경도']) + list(df5_oldhouse['Longitude']) + list(df6_police['Longitude']) + list(df7_light['posx']))\n",
        "points = np.array([list(i) for i in zip(X, Y)])\n",
        "print(points.shape)\n",
        "points[:2]"
      ],
      "metadata": {
        "colab": {
          "base_uri": "https://localhost:8080/"
        },
        "id": "cbL4FZEmcMin",
        "outputId": "6f33b5e1-59fe-4c25-dea5-682f66774f07"
      },
      "execution_count": null,
      "outputs": [
        {
          "output_type": "stream",
          "name": "stdout",
          "text": [
            "(26, 2)\n"
          ]
        },
        {
          "output_type": "execute_result",
          "data": {
            "text/plain": [
              "array([[ 35.7747219, 127.1255843],\n",
              "       [ 35.7892544, 127.1289583]])"
            ]
          },
          "metadata": {},
          "execution_count": 65
        }
      ]
    },
    {
      "cell_type": "code",
      "source": [
        "전체w = points.shape[0]\n",
        "cctvw = df1_cctv.shape[0]\n",
        "hospitalw = df2_hospital.shape[0]\n",
        "docw = df3_doc.shape[0]\n",
        "silvertownw = df4_silvertown.shape[0]\n",
        "oldhousew = df5_oldhouse.shape[0]\n",
        "policew = df6_police.shape[0]\n",
        "lightw = df7_light.shape[0]\n",
        "\n",
        "m1 = 0.278 * (전체w-cctvw) / 전체w\n",
        "m2 = 0.193 * (전체w-hospitalw) / 전체w\n",
        "m3 = 0.136 * (전체w-docw) / 전체w\n",
        "m4 = 0.392 * (전체w-silvertownw) / 전체w\n",
        "m5 = 0.193 * (전체w-oldhousew) / 전체w\n",
        "m6 = 0.136 * (전체w-policew) / 전체w\n",
        "m7 = 0.392 * (전체w-lightw) / 전체w"
      ],
      "metadata": {
        "id": "x8_tng7DcMin"
      },
      "execution_count": null,
      "outputs": []
    },
    {
      "cell_type": "code",
      "source": [
        "# K=3, raidus=300m\n",
        "opts_sites, mobjVal = mclp(df1_cctv,hospital_points, doc_points, silvertown_points,\n",
        "                           oldhouse_points, police_points, light_points, points, 3, 300)\n",
        "opts_sites"
      ],
      "metadata": {
        "id": "qObnZZxdcMin"
      },
      "execution_count": null,
      "outputs": []
    },
    {
      "cell_type": "code",
      "source": [
        "plot_result(points, opts_sites, 0.0027)"
      ],
      "metadata": {
        "id": "eQlB6eNqsWDZ"
      },
      "execution_count": null,
      "outputs": []
    },
    {
      "cell_type": "code",
      "source": [
        "# K=4, raidus=300m (천안시 참고)\n",
        "opts_sites, mobjVal = mclp(df1_cctv, hospital_points, doc_points, silvertown_points,\n",
        "                           oldhouse_points, police_points, light_points, points, 4, 300)\n",
        "opts_sites"
      ],
      "metadata": {
        "id": "G8xeW2L8Ysx3"
      },
      "execution_count": null,
      "outputs": []
    },
    {
      "cell_type": "code",
      "source": [
        "plot_result(points, opts_sites, 0.0027)"
      ],
      "metadata": {
        "id": "_Tw5USuCYxpc"
      },
      "execution_count": null,
      "outputs": []
    },
    {
      "cell_type": "code",
      "source": [
        "# K=2, raidus=500m (노인 걸음 참고)\n",
        "opts_sites, mobjVal = mclp(df1_cctv, hospital_points, doc_points, silvertown_points,\n",
        "                           oldhouse_points, police_points, light_points, points, 2, 500)\n",
        "opts_sites"
      ],
      "metadata": {
        "colab": {
          "base_uri": "https://localhost:8080/"
        },
        "id": "wj8bF1oAY26t",
        "outputId": "a649b7a0-09df-4c9c-df19-0691e15a40be"
      },
      "execution_count": null,
      "outputs": [
        {
          "output_type": "stream",
          "name": "stdout",
          "text": [
            "  Number of points 26\n",
            "  K 2\n",
            "  Radius 500\n",
            "----- Output -----\n",
            "  Running time : 0.014933586120605469 seconds\n",
            "  Optimal coverage points: 1.5762\n"
          ]
        },
        {
          "output_type": "execute_result",
          "data": {
            "text/plain": [
              "array([[ 35.79175728, 127.1311551 ],\n",
              "       [ 35.7953688 , 127.1409988 ]])"
            ]
          },
          "metadata": {},
          "execution_count": 67
        }
      ]
    },
    {
      "cell_type": "code",
      "source": [
        "coords_list = [\n",
        "    [ 35.79175728, 127.1311551 ],\n",
        "       [ 35.7953688 , 127.1409988 ]\n",
        "    ]\n",
        "cctv = df1\n",
        "# 빈 데이터프레임 생성\n",
        "result = pd.DataFrame()\n",
        "\n",
        "# 각 좌표에 대해 필터링 수행\n",
        "for coords in coords_list:\n",
        "    위도, 경도 = coords\n",
        "    temp_result = cctv[(cctv['WGS84위도'] == 위도) & (cctv['WGS84경도'] == 경도)]\n",
        "    result = pd.concat([result, temp_result])\n",
        "\n",
        "result['소재지지번주소']"
      ],
      "metadata": {
        "id": "oAJ0VyeleOvg",
        "colab": {
          "base_uri": "https://localhost:8080/"
        },
        "outputId": "303a45d2-990e-4f0f-df50-123c4af0247d"
      },
      "execution_count": null,
      "outputs": [
        {
          "output_type": "execute_result",
          "data": {
            "text/plain": [
              "191    전북특별자치도 전주시 완산구 평화동2가 849-7\n",
              "247      전북특별자치도 전주시 완산구 평화동1가 466\n",
              "Name: 소재지지번주소, dtype: object"
            ]
          },
          "metadata": {},
          "execution_count": 68
        }
      ]
    },
    {
      "cell_type": "code",
      "source": [
        "plot_result(points, opts_sites, 0.0027)"
      ],
      "metadata": {
        "colab": {
          "base_uri": "https://localhost:8080/",
          "height": 653
        },
        "id": "cRBPsxn9Y2x9",
        "outputId": "baa94216-6ae7-4d06-ff68-2e4c9144442d"
      },
      "execution_count": null,
      "outputs": [
        {
          "output_type": "display_data",
          "data": {
            "text/plain": [
              "<Figure size 800x800 with 1 Axes>"
            ],
            "image/png": "[encoded data removed]"
          },
          "metadata": {}
        }
      ]
    },
    {
      "cell_type": "code",
      "source": [
        "# K=4, raidus=640m (노인 1분 평균 보행 속도 64m -> 10분)\n",
        "opts_sites, mobjVal = mclp(df1_cctv, hospital_points, doc_points, silvertown_points,\n",
        "                           oldhouse_points, police_points, light_points, points, 4, 640)\n",
        "opts_sites"
      ],
      "metadata": {
        "id": "CvgNI7yPa3k9"
      },
      "execution_count": null,
      "outputs": []
    },
    {
      "cell_type": "code",
      "source": [
        "plot_result(points, opts_sites, 0.0027)"
      ],
      "metadata": {
        "id": "0wrEF6__a5vN"
      },
      "execution_count": null,
      "outputs": []
    }
  ]
}